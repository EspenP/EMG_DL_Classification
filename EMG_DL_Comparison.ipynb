{
 "cells": [
  {
   "cell_type": "code",
   "execution_count": 3,
   "metadata": {
    "colab": {
     "base_uri": "https://localhost:8080/"
    },
    "id": "k1rUvaKJ5JId",
    "outputId": "7573a747-4854-4273-85d4-24808d79516c"
   },
   "outputs": [],
   "source": [
    "import pandas as pd\n",
    "from os import listdir\n",
    "from os.path import isfile, join\n",
    "import numpy as np\n",
    "# from google.colab import drive\n",
    "# drive.mount('/content/gdrive')"
   ]
  },
  {
   "cell_type": "code",
   "execution_count": 4,
   "metadata": {
    "id": "Ot2juGQq5JIf"
   },
   "outputs": [],
   "source": [
    "data_path = 'EMG_data_for_gestures-master/'\n",
    "# data_path = '/content/gdrive/MyDrive/' + data_path\n",
    "num_participants = 36\n",
    "\n",
    "def retrieve_data(participant_range = (0,30), \n",
    "                  additional_participants = [], # For adding participants out of the range\n",
    "                  data_path = data_path):\n",
    "    participants = list(additional_participants)\n",
    "    by_participant_dfs = list()\n",
    "    for i in range(*participant_range):\n",
    "        dir_string = str(i+1)\n",
    "        if i <= 8:\n",
    "            dir_string = '0' + dir_string\n",
    "        participants.append(dir_string)\n",
    "    \n",
    "    for participant in participants:\n",
    "        path = data_path + participant\n",
    "        files = [f for f in listdir(path) if isfile(join(path, f))]\n",
    "        participant_dfs = []\n",
    "        for f in files:\n",
    "            df = pd.read_csv(path + '/' + f, sep='\\t')\n",
    "            df['Participant'] = participant\n",
    "            participant_dfs.append(df)            \n",
    "\n",
    "        by_participant_dfs.append(pd.concat(participant_dfs))\n",
    "\n",
    "    full_df = pd.concat(by_participant_dfs)\n",
    "    \n",
    "    # Fix the index\n",
    "    num_rows = len(full_df.index)\n",
    "    new_index = np.arange(0,num_rows)\n",
    "    return full_df.set_index(new_index), participants"
   ]
  },
  {
   "cell_type": "code",
   "execution_count": 5,
   "metadata": {
    "colab": {
     "base_uri": "https://localhost:8080/",
     "height": 424
    },
    "id": "7wmzxF4G5JIh",
    "outputId": "a24a23fa-6033-4732-b432-b9b8b786b8b1",
    "scrolled": false
   },
   "outputs": [
    {
     "data": {
      "text/html": [
       "<div>\n",
       "<style scoped>\n",
       "    .dataframe tbody tr th:only-of-type {\n",
       "        vertical-align: middle;\n",
       "    }\n",
       "\n",
       "    .dataframe tbody tr th {\n",
       "        vertical-align: top;\n",
       "    }\n",
       "\n",
       "    .dataframe thead th {\n",
       "        text-align: right;\n",
       "    }\n",
       "</style>\n",
       "<table border=\"1\" class=\"dataframe\">\n",
       "  <thead>\n",
       "    <tr style=\"text-align: right;\">\n",
       "      <th></th>\n",
       "      <th>time</th>\n",
       "      <th>channel1</th>\n",
       "      <th>channel2</th>\n",
       "      <th>channel3</th>\n",
       "      <th>channel4</th>\n",
       "      <th>channel5</th>\n",
       "      <th>channel6</th>\n",
       "      <th>channel7</th>\n",
       "      <th>channel8</th>\n",
       "      <th>class</th>\n",
       "      <th>Participant</th>\n",
       "    </tr>\n",
       "  </thead>\n",
       "  <tbody>\n",
       "    <tr>\n",
       "      <th>0</th>\n",
       "      <td>2</td>\n",
       "      <td>-0.00001</td>\n",
       "      <td>-0.00004</td>\n",
       "      <td>-0.00002</td>\n",
       "      <td>-0.00002</td>\n",
       "      <td>-0.00001</td>\n",
       "      <td>-0.00001</td>\n",
       "      <td>0.00001</td>\n",
       "      <td>-0.00003</td>\n",
       "      <td>0</td>\n",
       "      <td>01</td>\n",
       "    </tr>\n",
       "    <tr>\n",
       "      <th>1</th>\n",
       "      <td>6</td>\n",
       "      <td>-0.00001</td>\n",
       "      <td>-0.00004</td>\n",
       "      <td>-0.00002</td>\n",
       "      <td>-0.00002</td>\n",
       "      <td>-0.00001</td>\n",
       "      <td>-0.00001</td>\n",
       "      <td>0.00001</td>\n",
       "      <td>-0.00003</td>\n",
       "      <td>0</td>\n",
       "      <td>01</td>\n",
       "    </tr>\n",
       "    <tr>\n",
       "      <th>2</th>\n",
       "      <td>7</td>\n",
       "      <td>-0.00001</td>\n",
       "      <td>-0.00004</td>\n",
       "      <td>-0.00002</td>\n",
       "      <td>-0.00002</td>\n",
       "      <td>-0.00001</td>\n",
       "      <td>-0.00001</td>\n",
       "      <td>0.00001</td>\n",
       "      <td>-0.00003</td>\n",
       "      <td>0</td>\n",
       "      <td>01</td>\n",
       "    </tr>\n",
       "    <tr>\n",
       "      <th>3</th>\n",
       "      <td>8</td>\n",
       "      <td>-0.00003</td>\n",
       "      <td>-0.00005</td>\n",
       "      <td>-0.00008</td>\n",
       "      <td>-0.00004</td>\n",
       "      <td>-0.00003</td>\n",
       "      <td>0.00000</td>\n",
       "      <td>-0.00002</td>\n",
       "      <td>0.00000</td>\n",
       "      <td>0</td>\n",
       "      <td>01</td>\n",
       "    </tr>\n",
       "    <tr>\n",
       "      <th>4</th>\n",
       "      <td>9</td>\n",
       "      <td>-0.00003</td>\n",
       "      <td>-0.00001</td>\n",
       "      <td>0.00000</td>\n",
       "      <td>0.00001</td>\n",
       "      <td>-0.00001</td>\n",
       "      <td>0.00000</td>\n",
       "      <td>0.00000</td>\n",
       "      <td>-0.00002</td>\n",
       "      <td>0</td>\n",
       "      <td>01</td>\n",
       "    </tr>\n",
       "    <tr>\n",
       "      <th>...</th>\n",
       "      <td>...</td>\n",
       "      <td>...</td>\n",
       "      <td>...</td>\n",
       "      <td>...</td>\n",
       "      <td>...</td>\n",
       "      <td>...</td>\n",
       "      <td>...</td>\n",
       "      <td>...</td>\n",
       "      <td>...</td>\n",
       "      <td>...</td>\n",
       "      <td>...</td>\n",
       "    </tr>\n",
       "    <tr>\n",
       "      <th>3579387</th>\n",
       "      <td>72888</td>\n",
       "      <td>-0.00002</td>\n",
       "      <td>-0.00002</td>\n",
       "      <td>-0.00002</td>\n",
       "      <td>-0.00008</td>\n",
       "      <td>0.00000</td>\n",
       "      <td>-0.00002</td>\n",
       "      <td>-0.00002</td>\n",
       "      <td>-0.00001</td>\n",
       "      <td>0</td>\n",
       "      <td>30</td>\n",
       "    </tr>\n",
       "    <tr>\n",
       "      <th>3579388</th>\n",
       "      <td>72889</td>\n",
       "      <td>-0.00002</td>\n",
       "      <td>-0.00002</td>\n",
       "      <td>-0.00002</td>\n",
       "      <td>-0.00008</td>\n",
       "      <td>0.00000</td>\n",
       "      <td>-0.00002</td>\n",
       "      <td>-0.00002</td>\n",
       "      <td>-0.00001</td>\n",
       "      <td>0</td>\n",
       "      <td>30</td>\n",
       "    </tr>\n",
       "    <tr>\n",
       "      <th>3579389</th>\n",
       "      <td>72890</td>\n",
       "      <td>-0.00002</td>\n",
       "      <td>-0.00002</td>\n",
       "      <td>-0.00002</td>\n",
       "      <td>-0.00008</td>\n",
       "      <td>0.00000</td>\n",
       "      <td>-0.00002</td>\n",
       "      <td>-0.00002</td>\n",
       "      <td>-0.00001</td>\n",
       "      <td>0</td>\n",
       "      <td>30</td>\n",
       "    </tr>\n",
       "    <tr>\n",
       "      <th>3579390</th>\n",
       "      <td>72891</td>\n",
       "      <td>-0.00005</td>\n",
       "      <td>-0.00002</td>\n",
       "      <td>0.00001</td>\n",
       "      <td>-0.00001</td>\n",
       "      <td>-0.00002</td>\n",
       "      <td>0.00003</td>\n",
       "      <td>0.00001</td>\n",
       "      <td>-0.00001</td>\n",
       "      <td>0</td>\n",
       "      <td>30</td>\n",
       "    </tr>\n",
       "    <tr>\n",
       "      <th>3579391</th>\n",
       "      <td>72892</td>\n",
       "      <td>0.00005</td>\n",
       "      <td>0.00000</td>\n",
       "      <td>-0.00001</td>\n",
       "      <td>0.00000</td>\n",
       "      <td>-0.00001</td>\n",
       "      <td>-0.00002</td>\n",
       "      <td>-0.00002</td>\n",
       "      <td>-0.00002</td>\n",
       "      <td>0</td>\n",
       "      <td>30</td>\n",
       "    </tr>\n",
       "  </tbody>\n",
       "</table>\n",
       "<p>3579392 rows × 11 columns</p>\n",
       "</div>"
      ],
      "text/plain": [
       "          time  channel1  channel2  channel3  channel4  channel5  channel6  \\\n",
       "0            2  -0.00001  -0.00004  -0.00002  -0.00002  -0.00001  -0.00001   \n",
       "1            6  -0.00001  -0.00004  -0.00002  -0.00002  -0.00001  -0.00001   \n",
       "2            7  -0.00001  -0.00004  -0.00002  -0.00002  -0.00001  -0.00001   \n",
       "3            8  -0.00003  -0.00005  -0.00008  -0.00004  -0.00003   0.00000   \n",
       "4            9  -0.00003  -0.00001   0.00000   0.00001  -0.00001   0.00000   \n",
       "...        ...       ...       ...       ...       ...       ...       ...   \n",
       "3579387  72888  -0.00002  -0.00002  -0.00002  -0.00008   0.00000  -0.00002   \n",
       "3579388  72889  -0.00002  -0.00002  -0.00002  -0.00008   0.00000  -0.00002   \n",
       "3579389  72890  -0.00002  -0.00002  -0.00002  -0.00008   0.00000  -0.00002   \n",
       "3579390  72891  -0.00005  -0.00002   0.00001  -0.00001  -0.00002   0.00003   \n",
       "3579391  72892   0.00005   0.00000  -0.00001   0.00000  -0.00001  -0.00002   \n",
       "\n",
       "         channel7  channel8  class Participant  \n",
       "0         0.00001  -0.00003      0          01  \n",
       "1         0.00001  -0.00003      0          01  \n",
       "2         0.00001  -0.00003      0          01  \n",
       "3        -0.00002   0.00000      0          01  \n",
       "4         0.00000  -0.00002      0          01  \n",
       "...           ...       ...    ...         ...  \n",
       "3579387  -0.00002  -0.00001      0          30  \n",
       "3579388  -0.00002  -0.00001      0          30  \n",
       "3579389  -0.00002  -0.00001      0          30  \n",
       "3579390   0.00001  -0.00001      0          30  \n",
       "3579391  -0.00002  -0.00002      0          30  \n",
       "\n",
       "[3579392 rows x 11 columns]"
      ]
     },
     "metadata": {},
     "output_type": "display_data"
    }
   ],
   "source": [
    "train_df, participants_train = retrieve_data()\n",
    "test_df, participants_test = retrieve_data(participant_range = (30,36))\n",
    "display(train_df)\n"
   ]
  },
  {
   "cell_type": "markdown",
   "metadata": {
    "id": "XtV-Y_0q5JIk"
   },
   "source": [
    "## Preprocessing\n",
    "We will use the filteremg function from lab4, as well as a fast fourier transform on each window"
   ]
  },
  {
   "cell_type": "code",
   "execution_count": 6,
   "metadata": {
    "id": "A0ZyKf155JIl"
   },
   "outputs": [],
   "source": [
    "import scipy as sp\n",
    "import scipy.signal\n",
    "\n",
    "def filteremg(emg, low_pass=10, sfreq=1000, high_band=20, low_band=450):\n",
    "    \"\"\"\n",
    "    emg: EMG data\n",
    "    high: high-pass cut off frequency\n",
    "    low: low-pass cut off frequency\n",
    "    sfreq: sampling frequency\n",
    "    \"\"\"\n",
    "    # normalise cut-off frequencies to sampling frequency\n",
    "    high_band = high_band/(sfreq/2)\n",
    "    low_band = low_band/(sfreq/2)\n",
    "    \n",
    "    # create bandpass filter for EMG\n",
    "    b1, a1 = sp.signal.butter(4, [high_band,low_band], btype='bandpass')\n",
    "    \n",
    "    # process EMG signal: filter EMG\n",
    "    emg_filtered = sp.signal.filtfilt(b1, a1, emg)    \n",
    "    \n",
    "    # process EMG signal: rectify\n",
    "    emg_rectified = abs(emg_filtered)\n",
    "    \n",
    "    # create lowpass filter and apply to rectified signal to get EMG envelope\n",
    "    low_pass = low_pass/(sfreq/2)\n",
    "    b2, a2 = sp.signal.butter(4, low_pass, btype='lowpass')\n",
    "    emg_envelope = sp.signal.filtfilt(b2, a2, emg_rectified)\n",
    "    \n",
    "    return emg_envelope"
   ]
  },
  {
   "cell_type": "code",
   "execution_count": 7,
   "metadata": {
    "id": "VAOhnH3g5JIm"
   },
   "outputs": [],
   "source": [
    "channels = ['channel' + str(i) for i in range(1,9)]\n",
    "train_df[channels] = train_df[channels].apply(filteremg)\n",
    "test_df[channels] = test_df[channels].apply(filteremg)"
   ]
  },
  {
   "cell_type": "code",
   "execution_count": 8,
   "metadata": {
    "id": "yytEk19N5JIm"
   },
   "outputs": [],
   "source": [
    "# Windowed DF\n",
    "\n",
    "# Returns a list of windowed for each participants dataframes\n",
    "def generate_windowed_dfs(df, participants, window_size, stride):\n",
    "    windows = []\n",
    "    grouped_df = df.groupby(['Participant'])\n",
    "    for participant in participants:\n",
    "        p_df = grouped_df.get_group(participant)\n",
    "        dfs = sliding_window(p_df, window_size=window_size, stride=stride)\n",
    "        windows.extend(dfs)\n",
    "    return windows\n",
    "\n",
    "def sliding_window(df, window_size, stride, fs=1000): # Do sampling based on num of rows\n",
    "\n",
    "    # This function only works for continous dfs (not multiple combined participant dfs)\n",
    "    dfs = []\n",
    "    df_cop = df.copy() # create copy of dataframe\n",
    "    starting_index = df_cop.index[0]\n",
    "    ending_index = int(df_cop.index[0] + fs*window_size)\n",
    "    while ending_index <= df_cop.index[-1]:\n",
    "        windowed_df = df_cop.loc[(df_cop.index >= starting_index) & (df_cop.index <= ending_index)]\n",
    "        dfs.append(windowed_df)\n",
    "        starting_index = int(starting_index + fs*stride)\n",
    "        ending_index = int(ending_index + fs*stride)\n",
    "    return dfs\n",
    "\n",
    "\n",
    "train_windows = generate_windowed_dfs(train_df, participants_train, 2, 0.5) # Do 1 s strides\n",
    "test_windows = generate_windowed_dfs(test_df, participants_test, 2, 0.5)"
   ]
  },
  {
   "cell_type": "code",
   "execution_count": 9,
   "metadata": {
    "colab": {
     "base_uri": "https://localhost:8080/",
     "height": 69
    },
    "id": "mWqgpAT35JIm",
    "outputId": "aec6f75b-558e-4e4f-b96f-20cb0d76ccc6"
   },
   "outputs": [
    {
     "data": {
      "text/plain": [
       "(2001, 11)"
      ]
     },
     "metadata": {},
     "output_type": "display_data"
    },
    {
     "data": {
      "text/plain": [
       "array([2.45789188e-06, 2.63861282e-06, 2.81942149e-06, ...,\n",
       "       1.52379223e-05, 1.53573062e-05, 1.54628037e-05])"
      ]
     },
     "metadata": {},
     "output_type": "display_data"
    }
   ],
   "source": [
    "display(train_windows[0].shape)\n",
    "display(train_windows[0]['channel1'].values)"
   ]
  },
  {
   "cell_type": "code",
   "execution_count": 26,
   "metadata": {
    "colab": {
     "base_uri": "https://localhost:8080/",
     "height": 328
    },
    "id": "ymgC_HWn5JIn",
    "outputId": "ba976983-e69f-469f-ca0d-210a3852667b"
   },
   "outputs": [],
   "source": [
    "from scipy import signal\n",
    "from scipy.stats import moment\n",
    "import matplotlib.pyplot as plt\n",
    "from scipy.fft import fft, fftfreq\n",
    "from math import *\n",
    "from more_itertools import distinct_combinations\n",
    "# From https://ataspinar.com/2018/04/04/machine-learning-with-signal-processing-techniques/\n",
    "def autocorr(x):\n",
    "    result = np.correlate(x, x, mode='full')\n",
    "    return result[len(result)//2:]\n",
    " \n",
    "def get_autocorr_values(y_values, T, N, f_s):\n",
    "    autocorr_values = autocorr(y_values)\n",
    "    x_values = np.array([T * jj for jj in range(0, N)])\n",
    "    return x_values, autocorr_values\n",
    "\n",
    "def extract_channel_features(channel_data, fs): # Channel data should be a 1D array\n",
    "    chan_feats = dict()\n",
    "    # Time domain features\n",
    "    chan_feats['mean'] = np.mean(channel_data)\n",
    "    chan_feats['variance'] = np.var(channel_data)\n",
    "    chan_feats['rms'] = np.sqrt(np.mean(channel_data**2))\n",
    "    chan_feats['second_moment'] = moment(channel_data, moment=2)\n",
    "    chan_feats['mav'] = np.sqrt(np.mean(abs(channel_data)))\n",
    "    \n",
    "    # Calculate Willison Amplitude and zero crossings\n",
    "    chan_max = np.amax(channel_data)\n",
    "    thresh = 0.3 * chan_max\n",
    "    will_amp = 0\n",
    "    zcrossings = 0\n",
    "    for i in range(len(channel_data) - 1):\n",
    "        if abs(channel_data[i] - channel_data[i+1]) > thresh:\n",
    "            will_amp += 1\n",
    "        if (channel_data[i] / channel_data[i+1]) < 0:\n",
    "            zcrossings += 1\n",
    "            \n",
    "    chan_feats['wamp'] = will_amp\n",
    "    chan_feats['zcrossings'] = zcrossings\n",
    "    \n",
    "    \n",
    "    # Calculate energy so we can calculate the energy later on.\n",
    "    energy = np.sum(channel_data**2)\n",
    "    \n",
    "    # PSD features\n",
    "    f, P = signal.welch(channel_data, fs, 'flattop', nperseg=2001, scaling='spectrum')\n",
    "    max_ind = np.argmax(P)\n",
    "    chan_feats['peak_frequency'] = f[max_ind]\n",
    "    chan_feats['power_max'] = np.sqrt(P[max_ind])\n",
    "    # chan_feats['power_mean'] = np.mean(P)\n",
    "\n",
    "    # Frequency domain features\n",
    "    N = 2001\n",
    "    T = N / 1000\n",
    "    yf = fft(channel_data)\n",
    "    yf = 2.0/N * np.abs(yf[0:N//2])\n",
    "    xf = fftfreq(N, T)[:N//2]\n",
    "    ind = np.argmax(yf)\n",
    "    chan_feats['max_freq'] = xf[ind]\n",
    "    chan_feats['fft_peak'] = np.sqrt(yf[ind])\n",
    "\n",
    "    t_values, autocorr_values = get_autocorr_values(channel_data, T, N, fs)\n",
    "    min_ind = np.argmin(autocorr_values)\n",
    "    autocorr_values = autocorr_values[min_ind:]\n",
    "    ind = np.argmax(autocorr_values)\n",
    "    chan_feats['max_corr'] = autocorr_values[ind]\n",
    "    chan_feats['corr_time'] = t_values[ind]\n",
    "    \n",
    "    return chan_feats, energy\n",
    "    \n",
    "def extract_window_features(df, channels, fs=1000):\n",
    "    window_feats = dict()\n",
    "    df_cop = df.copy()\n",
    "    energies = list()\n",
    "    for chan in channels:\n",
    "        chan_data =  df[chan].values\n",
    "        chan_feats, energy = extract_channel_features(chan_data, fs)\n",
    "        energies.append(energy)\n",
    "        keys = list(chan_feats.keys())\n",
    "        for key in keys:\n",
    "            window_feats[chan + '_' + key] = chan_feats[key]\n",
    "            \n",
    "    norm_value = np.sum(df['channel1'].values)\n",
    "    ind_combs = list(distinct_combinations([0,1,2,3,4,5,6,7], 2))\n",
    "    for ind in ind_combs:\n",
    "        first = ind[0]\n",
    "        second = ind[1]\n",
    "        window_feats[str(first) + '_' + str(second) + '_energy_ration'] = (energies[first] / energies[second]) / (energies[second] / norm_value)\n",
    "                \n",
    "    return pd.DataFrame(window_feats, index=[0])"
   ]
  },
  {
   "cell_type": "markdown",
   "metadata": {
    "id": "0VTiJ8Ui5JIq"
   },
   "source": [
    "## Format data for LSTM"
   ]
  },
  {
   "cell_type": "code",
   "execution_count": 24,
   "metadata": {
    "id": "WmVVZkuW5JIs"
   },
   "outputs": [],
   "source": [
    "from sklearn.preprocessing import StandardScaler\n",
    "from tensorflow.keras.utils import to_categorical\n",
    "from scipy.stats import mode\n",
    "\n",
    "def format_data_for_lstm(windows, min_confidence=0.5): # Confidence level will cause any windows \n",
    "    channels = ['channel' + str(i + 1) for i in range(8)] # where the mode count is less than 0.7 * size                                                          # To be thrown out\n",
    "    # Put windowed dfs into a 3d array                    # to be thrown out\n",
    "    X = list()\n",
    "    y = list()\n",
    "    for window in windows:\n",
    "        df = window.copy()\n",
    "#         data = np.array(df[[col for col in df.columns if col in channels]])\n",
    "        # We want a label for each windowed set of data\n",
    "        labels = pd.to_numeric(df['class'].values)\n",
    "        mode_data = mode(labels)\n",
    "        m = mode_data[0][0]\n",
    "        count = mode_data[1][0]\n",
    "        confidence = float(count) / float(df.shape[0])\n",
    "        if confidence < min_confidence:\n",
    "            continue # Throw out dataset if more than 30% of it is unmarked\n",
    "        if m == 7: # Throw out window if it is 7, which is not a class all participants use\n",
    "            continue\n",
    "        \n",
    "        feat_df = extract_window_features(window,channels)\n",
    "        data = feat_df.values\n",
    "        \n",
    "        y.append(m)\n",
    "        X.append(data)\n",
    "        \n",
    "    X = np.array(X)\n",
    "    y = np.array(y)\n",
    "    y = to_categorical(y)\n",
    "    return X, y\n",
    "\n",
    "# print(X_train.shape)\n",
    "# print(X_test.shape)\n",
    "# channel_scalers = {}\n",
    "# for i in range(X_train.shape[2]):\n",
    "#     channel_scalers[i] = StandardScaler()\n",
    "#     X_train[:, :, i] = channel_scalers[i].fit_transform(X_train[:, :, i])\n",
    "#     X_test[:, :, i] = channel_scalers[i].transform(X_test[: , :, i])\n",
    "     \n",
    "# y_train = to_categorical(y_train)\n",
    "# y_test = to_categorical(y_test)\n"
   ]
  },
  {
   "cell_type": "code",
   "execution_count": 27,
   "metadata": {
    "colab": {
     "base_uri": "https://localhost:8080/",
     "height": 173
    },
    "id": "_N4v5IWk5JIt",
    "outputId": "b4c4e97a-ae24-49b9-c9e8-467a3a493eb7"
   },
   "outputs": [
    {
     "data": {
      "text/plain": [
       "(7027, 1, 132)"
      ]
     },
     "metadata": {},
     "output_type": "display_data"
    },
    {
     "data": {
      "text/plain": [
       "(7027, 7)"
      ]
     },
     "metadata": {},
     "output_type": "display_data"
    },
    {
     "data": {
      "text/plain": [
       "array([[0., 1., 0., ..., 0., 0., 0.],\n",
       "       [0., 1., 0., ..., 0., 0., 0.],\n",
       "       [0., 1., 0., ..., 0., 0., 0.],\n",
       "       ...,\n",
       "       [1., 0., 0., ..., 0., 0., 0.],\n",
       "       [1., 0., 0., ..., 0., 0., 0.],\n",
       "       [1., 0., 0., ..., 0., 0., 0.]], dtype=float32)"
      ]
     },
     "metadata": {},
     "output_type": "display_data"
    }
   ],
   "source": [
    "X_train, y_train = format_data_for_lstm(train_windows)\n",
    "X_test, y_test = format_data_for_lstm(test_windows)\n",
    "display(X_train.shape, y_train.shape)\n",
    "display(y_train)"
   ]
  },
  {
   "cell_type": "markdown",
   "metadata": {
    "id": "gjf8YZfe5JIt"
   },
   "source": [
    "## Model\n",
    "Now we will define our model"
   ]
  },
  {
   "cell_type": "code",
   "execution_count": 33,
   "metadata": {
    "id": "f5kc7BiQ5JIt"
   },
   "outputs": [],
   "source": [
    "import tensorflow as tf\n",
    "from tensorflow import keras\n",
    "from tensorflow.keras.layers import LSTM, Dense, Dropout\n",
    "from tensorflow.keras.utils import to_categorical\n",
    "from tensorflow.keras.metrics import categorical_accuracy\n",
    "\n",
    "model = keras.Sequential()\n",
    "model.add(LSTM(units=1024,\n",
    "              dropout=0.3,\n",
    "              recurrent_dropout=0.3,\n",
    "              activation = 'tanh', \n",
    "              name = 'layer0', \n",
    "              return_sequences=False, \n",
    "              input_shape=(1, 132)))\n",
    "\n",
    "model.add(Dense(64, activation='relu'))\n",
    "\n",
    "model.add(Dense(7, name='output', activation='softmax')) # Need activation function\n",
    "model.compile(optimizer='adam', loss='categorical_crossentropy', metrics=[categorical_accuracy])"
   ]
  },
  {
   "cell_type": "code",
   "execution_count": 34,
   "metadata": {},
   "outputs": [],
   "source": [
    "from sklearn.metrics import confusion_matrix\n",
    "from sklearn.metrics import accuracy_score\n",
    "\n",
    "def pre_process_data(data, participants):\n",
    "    channels = ['channel' + str(i + 1) for i in range(8)] # where the mode count is less than 0.7 * size                                                          # To be thrown out\n",
    "    data[channels] = data[channels].apply(filteremg)\n",
    "    windows = generate_windowed_dfs(data, participants, 2, 0.5)\n",
    "    X, y = format_data_for_lstm(windows)\n",
    "    return X, y\n",
    "\n",
    "def validate_model(y_pred, y_test):\n",
    "    y_pred_c = np.argmax(y_pred, axis=1)\n",
    "    y_test_c = np.argmax(y_test, axis=1)\n",
    "    # display(y_pred_c, y_test_c)\n",
    "    cm = confusion_matrix(y_test_c, y_pred_c)\n",
    "    display(cm)\n",
    "    display(accuracy_score(y_pred_c, y_test_c))"
   ]
  },
  {
   "cell_type": "code",
   "execution_count": 35,
   "metadata": {
    "colab": {
     "base_uri": "https://localhost:8080/"
    },
    "id": "EdPmRnG95JIu",
    "outputId": "4542036b-9210-4271-f934-3e36827b2487"
   },
   "outputs": [
    {
     "name": "stdout",
     "output_type": "stream",
     "text": [
      "Epoch 1/200\n",
      "198/198 [==============================] - 14s 63ms/step - loss: 1.3054 - categorical_accuracy: 0.5455 - val_loss: 0.9978 - val_categorical_accuracy: 0.6458\n",
      "Epoch 2/200\n",
      "198/198 [==============================] - 12s 61ms/step - loss: 0.9655 - categorical_accuracy: 0.6376 - val_loss: 1.0538 - val_categorical_accuracy: 0.6373\n",
      "Epoch 3/200\n",
      "198/198 [==============================] - 13s 65ms/step - loss: 0.9738 - categorical_accuracy: 0.6294 - val_loss: 1.0496 - val_categorical_accuracy: 0.6358\n",
      "Epoch 4/200\n",
      "198/198 [==============================] - 12s 63ms/step - loss: 0.9535 - categorical_accuracy: 0.6388 - val_loss: 1.0468 - val_categorical_accuracy: 0.6529\n",
      "Epoch 5/200\n",
      "198/198 [==============================] - 13s 64ms/step - loss: 0.9306 - categorical_accuracy: 0.6410 - val_loss: 1.0864 - val_categorical_accuracy: 0.6430\n",
      "Epoch 6/200\n",
      "198/198 [==============================] - 12s 63ms/step - loss: 0.9187 - categorical_accuracy: 0.6421 - val_loss: 1.0600 - val_categorical_accuracy: 0.6543\n",
      "Epoch 7/200\n",
      "198/198 [==============================] - 12s 63ms/step - loss: 0.9353 - categorical_accuracy: 0.6334 - val_loss: 1.0978 - val_categorical_accuracy: 0.6415\n",
      "Epoch 8/200\n",
      "198/198 [==============================] - 13s 64ms/step - loss: 0.9194 - categorical_accuracy: 0.6382 - val_loss: 1.0427 - val_categorical_accuracy: 0.6472\n",
      "Epoch 9/200\n",
      "198/198 [==============================] - 13s 63ms/step - loss: 0.9101 - categorical_accuracy: 0.6419 - val_loss: 1.0405 - val_categorical_accuracy: 0.6415\n",
      "Epoch 10/200\n",
      "198/198 [==============================] - 12s 63ms/step - loss: 0.9108 - categorical_accuracy: 0.6467 - val_loss: 0.9813 - val_categorical_accuracy: 0.6501\n",
      "Epoch 11/200\n",
      "198/198 [==============================] - 12s 63ms/step - loss: 0.8850 - categorical_accuracy: 0.6401 - val_loss: 1.0439 - val_categorical_accuracy: 0.6415\n",
      "Epoch 12/200\n",
      "198/198 [==============================] - 12s 62ms/step - loss: 0.8886 - categorical_accuracy: 0.6437 - val_loss: 1.0662 - val_categorical_accuracy: 0.6572\n",
      "Epoch 13/200\n",
      "198/198 [==============================] - 13s 66ms/step - loss: 0.9040 - categorical_accuracy: 0.6427 - val_loss: 1.0280 - val_categorical_accuracy: 0.6501\n",
      "Epoch 14/200\n",
      "198/198 [==============================] - 13s 65ms/step - loss: 0.8857 - categorical_accuracy: 0.6383 - val_loss: 1.0681 - val_categorical_accuracy: 0.6458\n",
      "Epoch 15/200\n",
      "198/198 [==============================] - 13s 64ms/step - loss: 0.8947 - categorical_accuracy: 0.6448 - val_loss: 1.0147 - val_categorical_accuracy: 0.6458\n",
      "Epoch 16/200\n",
      "198/198 [==============================] - 13s 64ms/step - loss: 0.8833 - categorical_accuracy: 0.6380 - val_loss: 1.0256 - val_categorical_accuracy: 0.6600\n",
      "Epoch 17/200\n",
      "198/198 [==============================] - 13s 64ms/step - loss: 0.8860 - categorical_accuracy: 0.6451 - val_loss: 1.0128 - val_categorical_accuracy: 0.6401\n",
      "Epoch 18/200\n",
      "198/198 [==============================] - 13s 65ms/step - loss: 0.8743 - categorical_accuracy: 0.6532 - val_loss: 0.9834 - val_categorical_accuracy: 0.6486\n",
      "Epoch 19/200\n",
      "198/198 [==============================] - 13s 65ms/step - loss: 0.8970 - categorical_accuracy: 0.6272 - val_loss: 1.0375 - val_categorical_accuracy: 0.6458\n",
      "Epoch 20/200\n",
      "198/198 [==============================] - 13s 65ms/step - loss: 0.8805 - categorical_accuracy: 0.6513 - val_loss: 1.0126 - val_categorical_accuracy: 0.6543\n",
      "Epoch 21/200\n",
      "198/198 [==============================] - 12s 63ms/step - loss: 0.8959 - categorical_accuracy: 0.6430 - val_loss: 1.0213 - val_categorical_accuracy: 0.6558\n",
      "Epoch 22/200\n",
      "198/198 [==============================] - 14s 70ms/step - loss: 0.9138 - categorical_accuracy: 0.6298 - val_loss: 1.0382 - val_categorical_accuracy: 0.6472\n",
      "Epoch 23/200\n",
      "198/198 [==============================] - 13s 64ms/step - loss: 0.9011 - categorical_accuracy: 0.6390 - val_loss: 1.0045 - val_categorical_accuracy: 0.6458\n",
      "Epoch 24/200\n",
      "198/198 [==============================] - 13s 66ms/step - loss: 0.8748 - categorical_accuracy: 0.6499 - val_loss: 1.0497 - val_categorical_accuracy: 0.6600\n",
      "Epoch 25/200\n",
      "198/198 [==============================] - 13s 66ms/step - loss: 0.8837 - categorical_accuracy: 0.6422 - val_loss: 1.0220 - val_categorical_accuracy: 0.6458\n",
      "Epoch 26/200\n",
      "198/198 [==============================] - 13s 66ms/step - loss: 0.8650 - categorical_accuracy: 0.6545 - val_loss: 1.0949 - val_categorical_accuracy: 0.6529\n",
      "Epoch 27/200\n",
      "198/198 [==============================] - 16s 81ms/step - loss: 0.8672 - categorical_accuracy: 0.6452 - val_loss: 1.0226 - val_categorical_accuracy: 0.6486\n",
      "Epoch 28/200\n",
      "198/198 [==============================] - 12s 61ms/step - loss: 0.8634 - categorical_accuracy: 0.6420 - val_loss: 1.0143 - val_categorical_accuracy: 0.6472\n",
      "Epoch 29/200\n",
      "198/198 [==============================] - 12s 61ms/step - loss: 0.8976 - categorical_accuracy: 0.6324 - val_loss: 1.0552 - val_categorical_accuracy: 0.6515\n",
      "Epoch 30/200\n",
      "198/198 [==============================] - 12s 61ms/step - loss: 0.8669 - categorical_accuracy: 0.6453 - val_loss: 1.0086 - val_categorical_accuracy: 0.6515\n",
      "Epoch 31/200\n",
      "198/198 [==============================] - 13s 64ms/step - loss: 0.8784 - categorical_accuracy: 0.6377 - val_loss: 1.0095 - val_categorical_accuracy: 0.6486\n",
      "Epoch 32/200\n",
      "198/198 [==============================] - 12s 61ms/step - loss: 0.8660 - categorical_accuracy: 0.6385 - val_loss: 1.0216 - val_categorical_accuracy: 0.6373\n",
      "Epoch 33/200\n",
      "198/198 [==============================] - 12s 59ms/step - loss: 0.8843 - categorical_accuracy: 0.6374 - val_loss: 1.0163 - val_categorical_accuracy: 0.6458\n",
      "Epoch 34/200\n",
      "198/198 [==============================] - 12s 61ms/step - loss: 0.8921 - categorical_accuracy: 0.6434 - val_loss: 0.9947 - val_categorical_accuracy: 0.6415\n",
      "Epoch 35/200\n",
      "198/198 [==============================] - 11s 58ms/step - loss: 0.8680 - categorical_accuracy: 0.6397 - val_loss: 1.0358 - val_categorical_accuracy: 0.6529\n",
      "Epoch 36/200\n",
      "198/198 [==============================] - 11s 56ms/step - loss: 0.8655 - categorical_accuracy: 0.6481 - val_loss: 0.9976 - val_categorical_accuracy: 0.6415\n",
      "Epoch 37/200\n",
      "198/198 [==============================] - 11s 56ms/step - loss: 0.8541 - categorical_accuracy: 0.6442 - val_loss: 0.9784 - val_categorical_accuracy: 0.6430\n",
      "Epoch 38/200\n",
      "198/198 [==============================] - 11s 56ms/step - loss: 0.8586 - categorical_accuracy: 0.6475 - val_loss: 1.0429 - val_categorical_accuracy: 0.6529\n",
      "Epoch 39/200\n",
      "198/198 [==============================] - 11s 55ms/step - loss: 0.8767 - categorical_accuracy: 0.6401 - val_loss: 1.0144 - val_categorical_accuracy: 0.6543\n",
      "Epoch 40/200\n",
      "198/198 [==============================] - 11s 56ms/step - loss: 0.8635 - categorical_accuracy: 0.6463 - val_loss: 1.0193 - val_categorical_accuracy: 0.6472\n",
      "Epoch 41/200\n",
      "198/198 [==============================] - 11s 55ms/step - loss: 0.8634 - categorical_accuracy: 0.6374 - val_loss: 1.0253 - val_categorical_accuracy: 0.6501\n",
      "Epoch 42/200\n",
      "198/198 [==============================] - 11s 56ms/step - loss: 0.8715 - categorical_accuracy: 0.6339 - val_loss: 1.0248 - val_categorical_accuracy: 0.6458\n",
      "Epoch 43/200\n",
      "198/198 [==============================] - 11s 55ms/step - loss: 0.8490 - categorical_accuracy: 0.6469 - val_loss: 1.0123 - val_categorical_accuracy: 0.6458\n",
      "Epoch 44/200\n",
      "198/198 [==============================] - 11s 56ms/step - loss: 0.8555 - categorical_accuracy: 0.6450 - val_loss: 1.0317 - val_categorical_accuracy: 0.6529\n",
      "Epoch 45/200\n",
      "198/198 [==============================] - 11s 56ms/step - loss: 0.8607 - categorical_accuracy: 0.6329 - val_loss: 0.9978 - val_categorical_accuracy: 0.6515\n",
      "Epoch 46/200\n",
      "198/198 [==============================] - 11s 57ms/step - loss: 0.8405 - categorical_accuracy: 0.6455 - val_loss: 1.0116 - val_categorical_accuracy: 0.6572\n",
      "Epoch 47/200\n",
      "198/198 [==============================] - 11s 56ms/step - loss: 0.8482 - categorical_accuracy: 0.6434 - val_loss: 1.0523 - val_categorical_accuracy: 0.6415\n",
      "Epoch 48/200\n",
      "198/198 [==============================] - 11s 57ms/step - loss: 0.8590 - categorical_accuracy: 0.6437 - val_loss: 0.9993 - val_categorical_accuracy: 0.6529\n",
      "Epoch 49/200\n"
     ]
    },
    {
     "name": "stdout",
     "output_type": "stream",
     "text": [
      "198/198 [==============================] - 11s 56ms/step - loss: 0.8356 - categorical_accuracy: 0.6499 - val_loss: 1.0195 - val_categorical_accuracy: 0.6486\n",
      "Epoch 50/200\n",
      "198/198 [==============================] - 11s 56ms/step - loss: 0.8550 - categorical_accuracy: 0.6427 - val_loss: 1.0856 - val_categorical_accuracy: 0.6316\n",
      "Epoch 51/200\n",
      "198/198 [==============================] - 11s 56ms/step - loss: 0.8366 - categorical_accuracy: 0.6492 - val_loss: 1.0194 - val_categorical_accuracy: 0.6430\n",
      "Epoch 52/200\n",
      "198/198 [==============================] - 11s 55ms/step - loss: 0.8478 - categorical_accuracy: 0.6387 - val_loss: 1.0383 - val_categorical_accuracy: 0.6458\n",
      "Epoch 53/200\n",
      "198/198 [==============================] - 11s 56ms/step - loss: 0.8451 - categorical_accuracy: 0.6498 - val_loss: 0.9878 - val_categorical_accuracy: 0.6558\n",
      "Epoch 54/200\n",
      "198/198 [==============================] - 11s 56ms/step - loss: 0.8516 - categorical_accuracy: 0.6419 - val_loss: 1.0316 - val_categorical_accuracy: 0.6529\n",
      "Epoch 55/200\n",
      "198/198 [==============================] - 11s 58ms/step - loss: 0.8384 - categorical_accuracy: 0.6589 - val_loss: 1.0274 - val_categorical_accuracy: 0.6586\n",
      "Epoch 56/200\n",
      "198/198 [==============================] - 11s 56ms/step - loss: 0.8602 - categorical_accuracy: 0.6320 - val_loss: 1.0650 - val_categorical_accuracy: 0.6543\n",
      "Epoch 57/200\n",
      "198/198 [==============================] - 11s 55ms/step - loss: 0.8583 - categorical_accuracy: 0.6451 - val_loss: 0.9982 - val_categorical_accuracy: 0.6458\n",
      "Epoch 58/200\n",
      "198/198 [==============================] - 11s 56ms/step - loss: 0.8393 - categorical_accuracy: 0.6555 - val_loss: 1.0186 - val_categorical_accuracy: 0.6558\n",
      "Epoch 59/200\n",
      "198/198 [==============================] - 11s 55ms/step - loss: 0.8380 - categorical_accuracy: 0.6532 - val_loss: 0.9929 - val_categorical_accuracy: 0.6501\n",
      "Epoch 60/200\n",
      "198/198 [==============================] - 11s 55ms/step - loss: 0.8345 - categorical_accuracy: 0.6604 - val_loss: 1.0966 - val_categorical_accuracy: 0.6501\n",
      "Epoch 61/200\n",
      "198/198 [==============================] - 11s 56ms/step - loss: 0.8642 - categorical_accuracy: 0.6406 - val_loss: 1.0226 - val_categorical_accuracy: 0.6415\n",
      "Epoch 62/200\n",
      "198/198 [==============================] - 11s 57ms/step - loss: 0.8293 - categorical_accuracy: 0.6511 - val_loss: 0.9836 - val_categorical_accuracy: 0.6486\n",
      "Epoch 63/200\n",
      "198/198 [==============================] - 11s 56ms/step - loss: 0.8296 - categorical_accuracy: 0.6587 - val_loss: 1.0030 - val_categorical_accuracy: 0.6529\n",
      "Epoch 64/200\n",
      "198/198 [==============================] - 11s 57ms/step - loss: 0.8409 - categorical_accuracy: 0.6541 - val_loss: 1.0752 - val_categorical_accuracy: 0.6558\n",
      "Epoch 65/200\n",
      "198/198 [==============================] - 11s 54ms/step - loss: 0.8440 - categorical_accuracy: 0.6592 - val_loss: 1.0572 - val_categorical_accuracy: 0.6529\n",
      "Epoch 66/200\n",
      "198/198 [==============================] - 11s 54ms/step - loss: 0.8489 - categorical_accuracy: 0.6450 - val_loss: 1.0655 - val_categorical_accuracy: 0.6444\n",
      "Epoch 67/200\n",
      "198/198 [==============================] - 11s 55ms/step - loss: 0.8594 - categorical_accuracy: 0.6352 - val_loss: 1.0706 - val_categorical_accuracy: 0.6472\n",
      "Epoch 68/200\n",
      "198/198 [==============================] - 11s 58ms/step - loss: 0.8430 - categorical_accuracy: 0.6515 - val_loss: 1.0526 - val_categorical_accuracy: 0.6515\n",
      "Epoch 69/200\n",
      "198/198 [==============================] - 11s 58ms/step - loss: 0.8457 - categorical_accuracy: 0.6478 - val_loss: 1.0862 - val_categorical_accuracy: 0.6472\n",
      "Epoch 70/200\n",
      "198/198 [==============================] - 11s 56ms/step - loss: 0.8558 - categorical_accuracy: 0.6317 - val_loss: 1.0725 - val_categorical_accuracy: 0.6501\n",
      "Epoch 71/200\n",
      "198/198 [==============================] - 11s 56ms/step - loss: 0.8427 - categorical_accuracy: 0.6543 - val_loss: 1.0423 - val_categorical_accuracy: 0.6615\n",
      "Epoch 72/200\n",
      "198/198 [==============================] - 11s 56ms/step - loss: 0.8511 - categorical_accuracy: 0.6452 - val_loss: 1.0292 - val_categorical_accuracy: 0.6629\n",
      "Epoch 73/200\n",
      "198/198 [==============================] - 11s 55ms/step - loss: 0.8325 - categorical_accuracy: 0.6434 - val_loss: 1.0284 - val_categorical_accuracy: 0.6543\n",
      "Epoch 74/200\n",
      "198/198 [==============================] - 11s 56ms/step - loss: 0.8608 - categorical_accuracy: 0.6414 - val_loss: 1.0676 - val_categorical_accuracy: 0.6387\n",
      "Epoch 75/200\n",
      "198/198 [==============================] - 11s 56ms/step - loss: 0.8543 - categorical_accuracy: 0.6415 - val_loss: 1.0641 - val_categorical_accuracy: 0.6458\n",
      "Epoch 76/200\n",
      "198/198 [==============================] - 11s 57ms/step - loss: 0.8345 - categorical_accuracy: 0.6577 - val_loss: 0.9992 - val_categorical_accuracy: 0.6615\n",
      "Epoch 77/200\n",
      "198/198 [==============================] - 11s 56ms/step - loss: 0.8344 - categorical_accuracy: 0.6493 - val_loss: 1.0526 - val_categorical_accuracy: 0.6486\n",
      "Epoch 78/200\n",
      "198/198 [==============================] - 11s 56ms/step - loss: 0.8515 - categorical_accuracy: 0.6505 - val_loss: 1.0887 - val_categorical_accuracy: 0.6458\n",
      "Epoch 79/200\n",
      "198/198 [==============================] - 11s 56ms/step - loss: 0.8704 - categorical_accuracy: 0.6246 - val_loss: 1.0717 - val_categorical_accuracy: 0.6515\n",
      "Epoch 80/200\n",
      "198/198 [==============================] - 11s 56ms/step - loss: 0.8331 - categorical_accuracy: 0.6496 - val_loss: 1.0867 - val_categorical_accuracy: 0.6558\n",
      "Epoch 81/200\n",
      "198/198 [==============================] - 11s 56ms/step - loss: 0.8385 - categorical_accuracy: 0.6468 - val_loss: 1.0776 - val_categorical_accuracy: 0.6472\n",
      "Epoch 82/200\n",
      "198/198 [==============================] - 11s 56ms/step - loss: 0.8488 - categorical_accuracy: 0.6461 - val_loss: 1.0910 - val_categorical_accuracy: 0.6515\n",
      "Epoch 83/200\n",
      "198/198 [==============================] - 11s 55ms/step - loss: 0.8744 - categorical_accuracy: 0.6348 - val_loss: 1.0729 - val_categorical_accuracy: 0.6486\n",
      "Epoch 84/200\n",
      "198/198 [==============================] - 11s 57ms/step - loss: 0.8289 - categorical_accuracy: 0.6548 - val_loss: 1.0281 - val_categorical_accuracy: 0.6529\n",
      "Epoch 85/200\n",
      "198/198 [==============================] - 11s 57ms/step - loss: 0.8470 - categorical_accuracy: 0.6345 - val_loss: 1.0435 - val_categorical_accuracy: 0.6615\n",
      "Epoch 86/200\n",
      "198/198 [==============================] - 11s 56ms/step - loss: 0.8378 - categorical_accuracy: 0.6500 - val_loss: 1.0658 - val_categorical_accuracy: 0.6486\n",
      "Epoch 87/200\n",
      "198/198 [==============================] - 11s 56ms/step - loss: 0.8418 - categorical_accuracy: 0.6396 - val_loss: 1.0577 - val_categorical_accuracy: 0.6458\n",
      "Epoch 88/200\n",
      "198/198 [==============================] - 11s 56ms/step - loss: 0.8427 - categorical_accuracy: 0.6521 - val_loss: 1.0201 - val_categorical_accuracy: 0.6472\n",
      "Epoch 89/200\n",
      "198/198 [==============================] - 11s 56ms/step - loss: 0.8313 - categorical_accuracy: 0.6496 - val_loss: 1.0767 - val_categorical_accuracy: 0.6529\n",
      "Epoch 90/200\n",
      "198/198 [==============================] - 11s 57ms/step - loss: 0.8196 - categorical_accuracy: 0.6639 - val_loss: 1.0465 - val_categorical_accuracy: 0.6529\n",
      "Epoch 91/200\n",
      "198/198 [==============================] - 11s 56ms/step - loss: 0.8285 - categorical_accuracy: 0.6552 - val_loss: 1.1133 - val_categorical_accuracy: 0.6444\n",
      "Epoch 92/200\n",
      "198/198 [==============================] - 11s 57ms/step - loss: 0.8192 - categorical_accuracy: 0.6505 - val_loss: 1.0800 - val_categorical_accuracy: 0.6486\n",
      "Epoch 93/200\n",
      "198/198 [==============================] - 11s 56ms/step - loss: 0.8343 - categorical_accuracy: 0.6391 - val_loss: 1.1101 - val_categorical_accuracy: 0.6586\n",
      "Epoch 94/200\n",
      "198/198 [==============================] - 11s 56ms/step - loss: 0.8353 - categorical_accuracy: 0.6487 - val_loss: 1.1202 - val_categorical_accuracy: 0.6558\n",
      "Epoch 95/200\n",
      "198/198 [==============================] - 11s 57ms/step - loss: 0.8267 - categorical_accuracy: 0.6583 - val_loss: 1.0667 - val_categorical_accuracy: 0.6629\n",
      "Epoch 96/200\n",
      "198/198 [==============================] - 11s 57ms/step - loss: 0.8367 - categorical_accuracy: 0.6463 - val_loss: 1.0624 - val_categorical_accuracy: 0.6629\n",
      "Epoch 97/200\n"
     ]
    },
    {
     "name": "stdout",
     "output_type": "stream",
     "text": [
      "198/198 [==============================] - 11s 56ms/step - loss: 0.8476 - categorical_accuracy: 0.6413 - val_loss: 1.1239 - val_categorical_accuracy: 0.6529\n",
      "Epoch 98/200\n",
      "198/198 [==============================] - 11s 56ms/step - loss: 0.8386 - categorical_accuracy: 0.6607 - val_loss: 1.0548 - val_categorical_accuracy: 0.6458\n",
      "Epoch 99/200\n",
      "198/198 [==============================] - 11s 55ms/step - loss: 0.8259 - categorical_accuracy: 0.6610 - val_loss: 1.0777 - val_categorical_accuracy: 0.6515\n",
      "Epoch 100/200\n",
      "198/198 [==============================] - 11s 55ms/step - loss: 0.8348 - categorical_accuracy: 0.6464 - val_loss: 0.9964 - val_categorical_accuracy: 0.6629\n",
      "Epoch 101/200\n",
      "198/198 [==============================] - 11s 55ms/step - loss: 0.8494 - categorical_accuracy: 0.6415 - val_loss: 1.0333 - val_categorical_accuracy: 0.6486\n",
      "Epoch 102/200\n",
      "198/198 [==============================] - 11s 55ms/step - loss: 0.8535 - categorical_accuracy: 0.6391 - val_loss: 1.0899 - val_categorical_accuracy: 0.6515\n",
      "Epoch 103/200\n",
      "198/198 [==============================] - 11s 55ms/step - loss: 0.8463 - categorical_accuracy: 0.6447 - val_loss: 1.0500 - val_categorical_accuracy: 0.6515\n",
      "Epoch 104/200\n",
      "198/198 [==============================] - 11s 56ms/step - loss: 0.8453 - categorical_accuracy: 0.6430 - val_loss: 0.9983 - val_categorical_accuracy: 0.6615\n",
      "Epoch 105/200\n",
      "198/198 [==============================] - 11s 55ms/step - loss: 0.8443 - categorical_accuracy: 0.6533 - val_loss: 1.0821 - val_categorical_accuracy: 0.6501\n",
      "Epoch 106/200\n",
      "198/198 [==============================] - 11s 55ms/step - loss: 0.8304 - categorical_accuracy: 0.6455 - val_loss: 1.0569 - val_categorical_accuracy: 0.6543\n",
      "Epoch 107/200\n",
      "198/198 [==============================] - 11s 56ms/step - loss: 0.8282 - categorical_accuracy: 0.6472 - val_loss: 1.0604 - val_categorical_accuracy: 0.6486\n",
      "Epoch 108/200\n",
      "198/198 [==============================] - 11s 57ms/step - loss: 0.8607 - categorical_accuracy: 0.6375 - val_loss: 1.0971 - val_categorical_accuracy: 0.6444\n",
      "Epoch 109/200\n",
      "198/198 [==============================] - 11s 58ms/step - loss: 0.8423 - categorical_accuracy: 0.6487 - val_loss: 1.0385 - val_categorical_accuracy: 0.6373\n",
      "Epoch 110/200\n",
      "198/198 [==============================] - 11s 56ms/step - loss: 0.8472 - categorical_accuracy: 0.6377 - val_loss: 1.0104 - val_categorical_accuracy: 0.6501\n",
      "Epoch 111/200\n",
      "198/198 [==============================] - 11s 56ms/step - loss: 0.8310 - categorical_accuracy: 0.6488 - val_loss: 1.0167 - val_categorical_accuracy: 0.6387\n",
      "Epoch 112/200\n",
      "198/198 [==============================] - 11s 55ms/step - loss: 0.8277 - categorical_accuracy: 0.6421 - val_loss: 0.9796 - val_categorical_accuracy: 0.6543\n",
      "Epoch 113/200\n",
      "198/198 [==============================] - 11s 56ms/step - loss: 0.8534 - categorical_accuracy: 0.6372 - val_loss: 1.0348 - val_categorical_accuracy: 0.6316\n",
      "Epoch 114/200\n",
      "198/198 [==============================] - 11s 57ms/step - loss: 0.8284 - categorical_accuracy: 0.6495 - val_loss: 1.0742 - val_categorical_accuracy: 0.6444\n",
      "Epoch 115/200\n",
      "198/198 [==============================] - 11s 56ms/step - loss: 0.8490 - categorical_accuracy: 0.6466 - val_loss: 1.0438 - val_categorical_accuracy: 0.6472\n",
      "Epoch 116/200\n",
      "198/198 [==============================] - 11s 57ms/step - loss: 0.8510 - categorical_accuracy: 0.6365 - val_loss: 1.0530 - val_categorical_accuracy: 0.6572\n",
      "Epoch 117/200\n",
      "198/198 [==============================] - 11s 55ms/step - loss: 0.8414 - categorical_accuracy: 0.6419 - val_loss: 1.0601 - val_categorical_accuracy: 0.6615\n",
      "Epoch 118/200\n",
      "198/198 [==============================] - 11s 56ms/step - loss: 0.8460 - categorical_accuracy: 0.6460 - val_loss: 1.0639 - val_categorical_accuracy: 0.6401\n",
      "Epoch 119/200\n",
      "198/198 [==============================] - 11s 57ms/step - loss: 0.8280 - categorical_accuracy: 0.6538 - val_loss: 1.0353 - val_categorical_accuracy: 0.6415\n",
      "Epoch 120/200\n",
      "198/198 [==============================] - 11s 55ms/step - loss: 0.8353 - categorical_accuracy: 0.6451 - val_loss: 1.0321 - val_categorical_accuracy: 0.6444\n",
      "Epoch 121/200\n",
      "198/198 [==============================] - 11s 55ms/step - loss: 0.8323 - categorical_accuracy: 0.6538 - val_loss: 1.0594 - val_categorical_accuracy: 0.6657\n",
      "Epoch 122/200\n",
      "198/198 [==============================] - 11s 56ms/step - loss: 0.8169 - categorical_accuracy: 0.6679 - val_loss: 1.0649 - val_categorical_accuracy: 0.6444\n",
      "Epoch 123/200\n",
      "198/198 [==============================] - 11s 56ms/step - loss: 0.8346 - categorical_accuracy: 0.6447 - val_loss: 1.0961 - val_categorical_accuracy: 0.6558\n",
      "Epoch 124/200\n",
      "198/198 [==============================] - 11s 57ms/step - loss: 0.8222 - categorical_accuracy: 0.6501 - val_loss: 1.0263 - val_categorical_accuracy: 0.6558\n",
      "Epoch 125/200\n",
      "198/198 [==============================] - 11s 55ms/step - loss: 0.8315 - categorical_accuracy: 0.6508 - val_loss: 1.0680 - val_categorical_accuracy: 0.6486\n",
      "Epoch 126/200\n",
      "198/198 [==============================] - 11s 55ms/step - loss: 0.8211 - categorical_accuracy: 0.6488 - val_loss: 1.0475 - val_categorical_accuracy: 0.6486\n",
      "Epoch 127/200\n",
      "198/198 [==============================] - 11s 55ms/step - loss: 0.8238 - categorical_accuracy: 0.6547 - val_loss: 1.0426 - val_categorical_accuracy: 0.6558\n",
      "Epoch 128/200\n",
      "198/198 [==============================] - 11s 55ms/step - loss: 0.8331 - categorical_accuracy: 0.6477 - val_loss: 1.0346 - val_categorical_accuracy: 0.6501\n",
      "Epoch 129/200\n",
      "198/198 [==============================] - 11s 56ms/step - loss: 0.8226 - categorical_accuracy: 0.6503 - val_loss: 1.0181 - val_categorical_accuracy: 0.6486\n",
      "Epoch 130/200\n",
      "198/198 [==============================] - 11s 55ms/step - loss: 0.8255 - categorical_accuracy: 0.6509 - val_loss: 1.0808 - val_categorical_accuracy: 0.6458\n",
      "Epoch 131/200\n",
      "198/198 [==============================] - 11s 56ms/step - loss: 0.8141 - categorical_accuracy: 0.6568 - val_loss: 1.0401 - val_categorical_accuracy: 0.6572\n",
      "Epoch 132/200\n",
      "198/198 [==============================] - 11s 55ms/step - loss: 0.8289 - categorical_accuracy: 0.6422 - val_loss: 1.0179 - val_categorical_accuracy: 0.6472\n",
      "Epoch 133/200\n",
      "198/198 [==============================] - 11s 55ms/step - loss: 0.8114 - categorical_accuracy: 0.6500 - val_loss: 1.0194 - val_categorical_accuracy: 0.6515\n",
      "Epoch 134/200\n",
      "198/198 [==============================] - 11s 54ms/step - loss: 0.8270 - categorical_accuracy: 0.6362 - val_loss: 1.0459 - val_categorical_accuracy: 0.6486\n",
      "Epoch 135/200\n",
      "198/198 [==============================] - 11s 57ms/step - loss: 0.8288 - categorical_accuracy: 0.6539 - val_loss: 1.0767 - val_categorical_accuracy: 0.6472\n",
      "Epoch 136/200\n",
      "198/198 [==============================] - 11s 56ms/step - loss: 0.8407 - categorical_accuracy: 0.6302 - val_loss: 1.0573 - val_categorical_accuracy: 0.6472\n",
      "Epoch 137/200\n",
      "198/198 [==============================] - 11s 56ms/step - loss: 0.8313 - categorical_accuracy: 0.6406 - val_loss: 1.0959 - val_categorical_accuracy: 0.6472\n",
      "Epoch 138/200\n",
      "198/198 [==============================] - 11s 55ms/step - loss: 0.8168 - categorical_accuracy: 0.6530 - val_loss: 1.1012 - val_categorical_accuracy: 0.6558\n",
      "Epoch 139/200\n",
      "198/198 [==============================] - 11s 56ms/step - loss: 0.8259 - categorical_accuracy: 0.6493 - val_loss: 1.0499 - val_categorical_accuracy: 0.6529\n",
      "Epoch 140/200\n",
      "198/198 [==============================] - 11s 55ms/step - loss: 0.8068 - categorical_accuracy: 0.6516 - val_loss: 1.0275 - val_categorical_accuracy: 0.6600\n",
      "Epoch 141/200\n",
      "198/198 [==============================] - 11s 56ms/step - loss: 0.8148 - categorical_accuracy: 0.6543 - val_loss: 1.0782 - val_categorical_accuracy: 0.6458\n",
      "Epoch 142/200\n",
      "198/198 [==============================] - 11s 55ms/step - loss: 0.8145 - categorical_accuracy: 0.6463 - val_loss: 1.0661 - val_categorical_accuracy: 0.6401\n",
      "Epoch 143/200\n",
      "198/198 [==============================] - 11s 56ms/step - loss: 0.8367 - categorical_accuracy: 0.6411 - val_loss: 1.0539 - val_categorical_accuracy: 0.6572\n",
      "Epoch 144/200\n",
      "198/198 [==============================] - 11s 56ms/step - loss: 0.8160 - categorical_accuracy: 0.6457 - val_loss: 1.0267 - val_categorical_accuracy: 0.6515\n",
      "Epoch 145/200\n"
     ]
    },
    {
     "name": "stdout",
     "output_type": "stream",
     "text": [
      "198/198 [==============================] - 11s 57ms/step - loss: 0.8357 - categorical_accuracy: 0.6438 - val_loss: 1.0687 - val_categorical_accuracy: 0.6472\n",
      "Epoch 146/200\n",
      "198/198 [==============================] - 11s 57ms/step - loss: 0.8380 - categorical_accuracy: 0.6451 - val_loss: 1.1052 - val_categorical_accuracy: 0.6543\n",
      "Epoch 147/200\n",
      "198/198 [==============================] - 11s 57ms/step - loss: 0.8275 - categorical_accuracy: 0.6478 - val_loss: 1.0880 - val_categorical_accuracy: 0.6486\n",
      "Epoch 148/200\n",
      "198/198 [==============================] - 11s 55ms/step - loss: 0.8243 - categorical_accuracy: 0.6513 - val_loss: 1.0351 - val_categorical_accuracy: 0.6586\n",
      "Epoch 149/200\n",
      "198/198 [==============================] - 11s 55ms/step - loss: 0.8141 - categorical_accuracy: 0.6553 - val_loss: 1.1139 - val_categorical_accuracy: 0.6458\n",
      "Epoch 150/200\n",
      "198/198 [==============================] - 11s 56ms/step - loss: 0.8289 - categorical_accuracy: 0.6435 - val_loss: 1.0920 - val_categorical_accuracy: 0.6515\n",
      "Epoch 151/200\n",
      "198/198 [==============================] - 11s 56ms/step - loss: 0.8112 - categorical_accuracy: 0.6556 - val_loss: 1.1120 - val_categorical_accuracy: 0.6401\n",
      "Epoch 152/200\n",
      "198/198 [==============================] - 11s 54ms/step - loss: 0.8211 - categorical_accuracy: 0.6494 - val_loss: 1.0988 - val_categorical_accuracy: 0.6430\n",
      "Epoch 153/200\n",
      "198/198 [==============================] - 11s 55ms/step - loss: 0.8308 - categorical_accuracy: 0.6413 - val_loss: 1.0744 - val_categorical_accuracy: 0.6501\n",
      "Epoch 154/200\n",
      "198/198 [==============================] - 11s 55ms/step - loss: 0.8294 - categorical_accuracy: 0.6481 - val_loss: 1.0703 - val_categorical_accuracy: 0.6430\n",
      "Epoch 155/200\n",
      "198/198 [==============================] - 11s 55ms/step - loss: 0.8167 - categorical_accuracy: 0.6511 - val_loss: 1.0512 - val_categorical_accuracy: 0.6430\n",
      "Epoch 156/200\n",
      "198/198 [==============================] - 11s 55ms/step - loss: 0.8272 - categorical_accuracy: 0.6393 - val_loss: 1.0832 - val_categorical_accuracy: 0.6486\n",
      "Epoch 157/200\n",
      "198/198 [==============================] - 11s 55ms/step - loss: 0.8348 - categorical_accuracy: 0.6441 - val_loss: 1.0447 - val_categorical_accuracy: 0.6458\n",
      "Epoch 158/200\n",
      "198/198 [==============================] - 11s 55ms/step - loss: 0.8226 - categorical_accuracy: 0.6510 - val_loss: 1.0679 - val_categorical_accuracy: 0.6600\n",
      "Epoch 159/200\n",
      "198/198 [==============================] - 11s 55ms/step - loss: 0.8370 - categorical_accuracy: 0.6367 - val_loss: 1.0484 - val_categorical_accuracy: 0.6430\n",
      "Epoch 160/200\n",
      "198/198 [==============================] - 11s 55ms/step - loss: 0.8146 - categorical_accuracy: 0.6561 - val_loss: 1.0447 - val_categorical_accuracy: 0.6401\n",
      "Epoch 161/200\n",
      "198/198 [==============================] - 11s 56ms/step - loss: 0.8328 - categorical_accuracy: 0.6435 - val_loss: 1.0347 - val_categorical_accuracy: 0.6415\n",
      "Epoch 162/200\n",
      "198/198 [==============================] - 11s 56ms/step - loss: 0.8365 - categorical_accuracy: 0.6364 - val_loss: 1.0380 - val_categorical_accuracy: 0.6501\n",
      "Epoch 163/200\n",
      "198/198 [==============================] - 11s 55ms/step - loss: 0.8302 - categorical_accuracy: 0.6428 - val_loss: 1.0294 - val_categorical_accuracy: 0.6486\n",
      "Epoch 164/200\n",
      "198/198 [==============================] - 11s 55ms/step - loss: 0.8236 - categorical_accuracy: 0.6507 - val_loss: 1.0834 - val_categorical_accuracy: 0.6558\n",
      "Epoch 165/200\n",
      "198/198 [==============================] - 11s 56ms/step - loss: 0.8165 - categorical_accuracy: 0.6511 - val_loss: 1.0817 - val_categorical_accuracy: 0.6486\n",
      "Epoch 166/200\n",
      "198/198 [==============================] - 11s 55ms/step - loss: 0.8086 - categorical_accuracy: 0.6524 - val_loss: 1.0411 - val_categorical_accuracy: 0.6558\n",
      "Epoch 167/200\n",
      "198/198 [==============================] - 11s 56ms/step - loss: 0.8305 - categorical_accuracy: 0.6424 - val_loss: 1.0173 - val_categorical_accuracy: 0.6415\n",
      "Epoch 168/200\n",
      "198/198 [==============================] - 11s 55ms/step - loss: 0.8320 - categorical_accuracy: 0.6462 - val_loss: 1.0199 - val_categorical_accuracy: 0.6529\n",
      "Epoch 169/200\n",
      "198/198 [==============================] - 11s 55ms/step - loss: 0.8094 - categorical_accuracy: 0.6563 - val_loss: 1.0311 - val_categorical_accuracy: 0.6515\n",
      "Epoch 170/200\n",
      "198/198 [==============================] - 11s 55ms/step - loss: 0.8183 - categorical_accuracy: 0.6464 - val_loss: 1.0633 - val_categorical_accuracy: 0.6543\n",
      "Epoch 171/200\n",
      "198/198 [==============================] - 11s 54ms/step - loss: 0.8252 - categorical_accuracy: 0.6368 - val_loss: 1.0934 - val_categorical_accuracy: 0.6486\n",
      "Epoch 172/200\n",
      "198/198 [==============================] - 11s 56ms/step - loss: 0.8120 - categorical_accuracy: 0.6543 - val_loss: 1.0710 - val_categorical_accuracy: 0.6615\n",
      "Epoch 173/200\n",
      "198/198 [==============================] - 11s 56ms/step - loss: 0.8043 - categorical_accuracy: 0.6658 - val_loss: 1.0679 - val_categorical_accuracy: 0.6543\n",
      "Epoch 174/200\n",
      "198/198 [==============================] - 11s 56ms/step - loss: 0.8340 - categorical_accuracy: 0.6489 - val_loss: 1.0611 - val_categorical_accuracy: 0.6529\n",
      "Epoch 175/200\n",
      "198/198 [==============================] - 11s 56ms/step - loss: 0.8192 - categorical_accuracy: 0.6524 - val_loss: 1.0291 - val_categorical_accuracy: 0.6486\n",
      "Epoch 176/200\n",
      "198/198 [==============================] - 11s 55ms/step - loss: 0.8254 - categorical_accuracy: 0.6420 - val_loss: 1.0703 - val_categorical_accuracy: 0.6458\n",
      "Epoch 177/200\n",
      "198/198 [==============================] - 11s 55ms/step - loss: 0.8257 - categorical_accuracy: 0.6534 - val_loss: 1.0597 - val_categorical_accuracy: 0.6529\n",
      "Epoch 178/200\n",
      "198/198 [==============================] - 11s 55ms/step - loss: 0.8182 - categorical_accuracy: 0.6515 - val_loss: 1.0606 - val_categorical_accuracy: 0.6501\n",
      "Epoch 179/200\n",
      "198/198 [==============================] - 11s 55ms/step - loss: 0.8257 - categorical_accuracy: 0.6429 - val_loss: 1.0818 - val_categorical_accuracy: 0.6757\n",
      "Epoch 180/200\n",
      "198/198 [==============================] - 11s 55ms/step - loss: 0.7954 - categorical_accuracy: 0.6614 - val_loss: 1.0732 - val_categorical_accuracy: 0.6472\n",
      "Epoch 181/200\n",
      "198/198 [==============================] - 11s 55ms/step - loss: 0.8161 - categorical_accuracy: 0.6516 - val_loss: 1.0938 - val_categorical_accuracy: 0.6586\n",
      "Epoch 182/200\n",
      "198/198 [==============================] - 11s 56ms/step - loss: 0.8047 - categorical_accuracy: 0.6534 - val_loss: 1.0346 - val_categorical_accuracy: 0.6543\n",
      "Epoch 183/200\n",
      "198/198 [==============================] - 11s 57ms/step - loss: 0.8164 - categorical_accuracy: 0.6498 - val_loss: 1.0476 - val_categorical_accuracy: 0.6558\n",
      "Epoch 184/200\n",
      "198/198 [==============================] - 11s 56ms/step - loss: 0.8060 - categorical_accuracy: 0.6653 - val_loss: 1.0783 - val_categorical_accuracy: 0.6543\n",
      "Epoch 185/200\n",
      "198/198 [==============================] - 11s 56ms/step - loss: 0.8143 - categorical_accuracy: 0.6501 - val_loss: 1.0905 - val_categorical_accuracy: 0.6458\n",
      "Epoch 186/200\n",
      "198/198 [==============================] - 11s 54ms/step - loss: 0.8176 - categorical_accuracy: 0.6404 - val_loss: 1.0929 - val_categorical_accuracy: 0.6486\n",
      "Epoch 187/200\n",
      "198/198 [==============================] - 11s 55ms/step - loss: 0.8106 - categorical_accuracy: 0.6502 - val_loss: 1.0879 - val_categorical_accuracy: 0.6529\n",
      "Epoch 188/200\n",
      "198/198 [==============================] - 11s 57ms/step - loss: 0.8083 - categorical_accuracy: 0.6504 - val_loss: 1.0607 - val_categorical_accuracy: 0.6600\n",
      "Epoch 189/200\n",
      "198/198 [==============================] - 11s 57ms/step - loss: 0.8095 - categorical_accuracy: 0.6487 - val_loss: 1.0660 - val_categorical_accuracy: 0.6572\n",
      "Epoch 190/200\n",
      "198/198 [==============================] - 11s 56ms/step - loss: 0.8104 - categorical_accuracy: 0.6625 - val_loss: 1.0901 - val_categorical_accuracy: 0.6401\n",
      "Epoch 191/200\n",
      "198/198 [==============================] - 11s 54ms/step - loss: 0.8225 - categorical_accuracy: 0.6518 - val_loss: 1.1100 - val_categorical_accuracy: 0.6543\n",
      "Epoch 192/200\n",
      "198/198 [==============================] - 11s 54ms/step - loss: 0.8099 - categorical_accuracy: 0.6548 - val_loss: 1.0659 - val_categorical_accuracy: 0.6600\n"
     ]
    },
    {
     "name": "stdout",
     "output_type": "stream",
     "text": [
      "Epoch 193/200\n",
      "198/198 [==============================] - 11s 55ms/step - loss: 0.8340 - categorical_accuracy: 0.6478 - val_loss: 1.1016 - val_categorical_accuracy: 0.6486\n",
      "Epoch 194/200\n",
      "198/198 [==============================] - 11s 55ms/step - loss: 0.8160 - categorical_accuracy: 0.6544 - val_loss: 1.0047 - val_categorical_accuracy: 0.6572\n",
      "Epoch 195/200\n",
      "198/198 [==============================] - 11s 53ms/step - loss: 0.8104 - categorical_accuracy: 0.6419 - val_loss: 1.1032 - val_categorical_accuracy: 0.6543\n",
      "Epoch 196/200\n",
      "198/198 [==============================] - 11s 56ms/step - loss: 0.8180 - categorical_accuracy: 0.6505 - val_loss: 1.0610 - val_categorical_accuracy: 0.6515\n",
      "Epoch 197/200\n",
      "198/198 [==============================] - 11s 56ms/step - loss: 0.8105 - categorical_accuracy: 0.6535 - val_loss: 1.1011 - val_categorical_accuracy: 0.6558\n",
      "Epoch 198/200\n",
      "198/198 [==============================] - 11s 57ms/step - loss: 0.8041 - categorical_accuracy: 0.6618 - val_loss: 1.0936 - val_categorical_accuracy: 0.6529\n",
      "Epoch 199/200\n",
      "198/198 [==============================] - 11s 56ms/step - loss: 0.8243 - categorical_accuracy: 0.6498 - val_loss: 1.0504 - val_categorical_accuracy: 0.6572\n",
      "Epoch 200/200\n",
      "198/198 [==============================] - 11s 56ms/step - loss: 0.8128 - categorical_accuracy: 0.6504 - val_loss: 1.0505 - val_categorical_accuracy: 0.6615\n"
     ]
    }
   ],
   "source": [
    "# Train model\n",
    "history = model.fit(X_train, y_train, epochs = 200, batch_size=32, validation_split=0.1)"
   ]
  },
  {
   "cell_type": "code",
   "execution_count": 36,
   "metadata": {
    "colab": {
     "base_uri": "https://localhost:8080/",
     "height": 282
    },
    "id": "lbo93ChgkkUD",
    "outputId": "9dd2b0e2-3ba0-4457-d747-8b2acc9ac912"
   },
   "outputs": [
    {
     "data": {
      "text/plain": [
       "[<matplotlib.lines.Line2D at 0x7f9e1c55b7c0>]"
      ]
     },
     "execution_count": 36,
     "metadata": {},
     "output_type": "execute_result"
    },
    {
     "data": {
      "image/png": "[encoded data removed]",
      "text/plain": [
       "<Figure size 432x288 with 1 Axes>"
      ]
     },
     "metadata": {
      "needs_background": "light"
     },
     "output_type": "display_data"
    }
   ],
   "source": [
    "plt.plot(history.history['loss'])\n",
    "plt.plot(history.history['val_loss'])"
   ]
  },
  {
   "cell_type": "code",
   "execution_count": 37,
   "metadata": {
    "colab": {
     "base_uri": "https://localhost:8080/",
     "height": 52
    },
    "id": "NZraSD8f5JIu",
    "outputId": "d1933e2f-9fe8-4904-a118-a97f67003892"
   },
   "outputs": [
    {
     "name": "stdout",
     "output_type": "stream",
     "text": [
      "220/220 [==============================] - 3s 12ms/step - loss: 0.7986 - categorical_accuracy: 0.6624\n"
     ]
    },
    {
     "data": {
      "text/plain": [
       "[0.7985568046569824, 0.6624448299407959]"
      ]
     },
     "metadata": {},
     "output_type": "display_data"
    }
   ],
   "source": [
    "# Evaluate model\n",
    "score = model.evaluate(X_train, y_train)\n",
    "display(score)"
   ]
  },
  {
   "cell_type": "code",
   "execution_count": 38,
   "metadata": {
    "colab": {
     "base_uri": "https://localhost:8080/",
     "height": 52
    },
    "id": "xHx-24Cz5JIv",
    "outputId": "f55c2608-6a55-4489-e02d-8922fd183c25"
   },
   "outputs": [
    {
     "name": "stdout",
     "output_type": "stream",
     "text": [
      "41/41 [==============================] - 1s 13ms/step - loss: 0.9100 - categorical_accuracy: 0.6315\n"
     ]
    },
    {
     "data": {
      "text/plain": [
       "[0.9099583029747009, 0.6314572095870972]"
      ]
     },
     "metadata": {},
     "output_type": "display_data"
    }
   ],
   "source": [
    "test_score = model.evaluate(X_test, y_test)\n",
    "display(test_score)"
   ]
  },
  {
   "cell_type": "code",
   "execution_count": 39,
   "metadata": {
    "colab": {
     "base_uri": "https://localhost:8080/",
     "height": 173
    },
    "id": "AQTGfBrjKOOY",
    "outputId": "b6a1ac8a-1ae9-4481-daad-90e53ff27952"
   },
   "outputs": [
    {
     "data": {
      "text/plain": [
       "(1297, 1, 132)"
      ]
     },
     "metadata": {},
     "output_type": "display_data"
    },
    {
     "data": {
      "text/plain": [
       "array([[747,  12,   1,  18,   1,   5,  25],\n",
       "       [ 60,  25,   0,   0,   0,   0,   0],\n",
       "       [ 77,   0,   1,   0,   0,   0,   0],\n",
       "       [ 50,   0,   0,  28,   0,   0,   0],\n",
       "       [ 81,   0,   0,   0,   0,   0,   3],\n",
       "       [ 74,   0,   0,   0,   0,   7,   0],\n",
       "       [ 71,   0,   0,   0,   0,   0,  11]])"
      ]
     },
     "metadata": {},
     "output_type": "display_data"
    },
    {
     "data": {
      "text/plain": [
       "0.6314572089437163"
      ]
     },
     "metadata": {},
     "output_type": "display_data"
    }
   ],
   "source": [
    "from sklearn.metrics import confusion_matrix\n",
    "from sklearn.metrics import accuracy_score\n",
    "display(X_test.shape)\n",
    "y_pred = model.predict(X_test)\n",
    "y_pred_c = np.argmax(y_pred, axis=1)\n",
    "y_test_c = np.argmax(y_test, axis=1)\n",
    "# display(y_pred_c, y_test_c)\n",
    "cm = confusion_matrix(y_test_c, y_pred_c)\n",
    "display(cm)\n",
    "display(accuracy_score(y_pred_c, y_test_c))"
   ]
  },
  {
   "cell_type": "code",
   "execution_count": 84,
   "metadata": {
    "colab": {
     "base_uri": "https://localhost:8080/"
    },
    "id": "5XNRjC84kuSU",
    "outputId": "c7e67ca8-8267-458e-cd64-b0aa65d0acab"
   },
   "outputs": [
    {
     "name": "stdout",
     "output_type": "stream",
     "text": [
      "INFO:tensorflow:Assets written to: Models/lstm_model/assets\n"
     ]
    }
   ],
   "source": [
    "model.save('Models/lstm_model')"
   ]
  },
  {
   "cell_type": "code",
   "execution_count": 40,
   "metadata": {},
   "outputs": [],
   "source": [
    "test_data, participants = retrieve_data(participant_range=(0,30))\n",
    "train_data, train_participants = retrieve_data(participant_range=(30,36))\n",
    "X_train, y_train = pre_process_data(test_data, participants)\n",
    "X_test, y_test = pre_process_data(train_data, train_participants)"
   ]
  },
  {
   "cell_type": "code",
   "execution_count": 41,
   "metadata": {},
   "outputs": [
    {
     "data": {
      "text/plain": [
       "(7027, 1, 132)"
      ]
     },
     "metadata": {},
     "output_type": "display_data"
    },
    {
     "data": {
      "text/plain": [
       "(7027, 7)"
      ]
     },
     "metadata": {},
     "output_type": "display_data"
    }
   ],
   "source": [
    "display(X_train.shape, y_train.shape)"
   ]
  },
  {
   "cell_type": "code",
   "execution_count": 99,
   "metadata": {},
   "outputs": [
    {
     "data": {
      "text/plain": [
       "0.6418101608083108"
      ]
     },
     "metadata": {},
     "output_type": "display_data"
    }
   ],
   "source": [
    "count = 0\n",
    "for row in y_train:\n",
    "    gest = np.argmax(row)\n",
    "    if gest == 0:\n",
    "        count += 1\n",
    "        \n",
    "display(count / len(y_train))"
   ]
  },
  {
   "cell_type": "markdown",
   "metadata": {
    "colab": {
     "base_uri": "https://localhost:8080/",
     "height": 156
    },
    "id": "i19vytJyL8tW",
    "outputId": "9f488d95-e4ab-4a4d-ad64-b92ca0a77e34"
   },
   "source": [
    "## Create, Train and Test the Second Model\n",
    "The second model uses Independent Recurrent cells as proposed by this paper \n",
    "https://arxiv.org/abs/1803.04831"
   ]
  },
  {
   "cell_type": "code",
   "execution_count": 43,
   "metadata": {},
   "outputs": [],
   "source": [
    "from ind_rnn import RNN, IndRNNCell\n",
    "import tensorflow as tf\n",
    "from tensorflow import keras\n",
    "from tensorflow.keras.layers import Dense, Dropout\n",
    "from tensorflow.keras.utils import to_categorical\n",
    "from tensorflow.keras.metrics import categorical_accuracy\n",
    "\n",
    "model = keras.Sequential()\n",
    "cells = [IndRNNCell(256), IndRNNCell(256)] # Default activation is ReLU\n",
    "model.add(RNN(cells, input_shape = (1,132)))\n",
    "model.add(Dropout(0.3))\n",
    "model.add(Dense(16, activation='relu'))\n",
    "model.add(Dropout(0.3))\n",
    "model.add(Dense(7, name='output', activation='softmax')) # Need activation function\n",
    "model.compile(optimizer='adam', loss='categorical_crossentropy', metrics=[categorical_accuracy])"
   ]
  },
  {
   "cell_type": "code",
   "execution_count": 44,
   "metadata": {},
   "outputs": [
    {
     "name": "stdout",
     "output_type": "stream",
     "text": [
      "Epoch 1/100\n",
      "198/198 [==============================] - 2s 5ms/step - loss: 71913.3801 - categorical_accuracy: 0.5070 - val_loss: 1.7828 - val_categorical_accuracy: 0.6430\n",
      "Epoch 2/100\n",
      "198/198 [==============================] - 1s 3ms/step - loss: 106.8745 - categorical_accuracy: 0.6402 - val_loss: 1.6348 - val_categorical_accuracy: 0.6430\n",
      "Epoch 3/100\n",
      "198/198 [==============================] - 1s 4ms/step - loss: 222.2139 - categorical_accuracy: 0.6434 - val_loss: 1.5216 - val_categorical_accuracy: 0.6430\n",
      "Epoch 4/100\n",
      "198/198 [==============================] - 1s 5ms/step - loss: 385.6320 - categorical_accuracy: 0.6277 - val_loss: 1.4381 - val_categorical_accuracy: 0.6430\n",
      "Epoch 5/100\n",
      "198/198 [==============================] - 1s 4ms/step - loss: 33.3959 - categorical_accuracy: 0.6342 - val_loss: 1.3811 - val_categorical_accuracy: 0.6430\n",
      "Epoch 6/100\n",
      "198/198 [==============================] - 1s 6ms/step - loss: 2.5121 - categorical_accuracy: 0.6498 - val_loss: 1.3442 - val_categorical_accuracy: 0.6430\n",
      "Epoch 7/100\n",
      "198/198 [==============================] - 1s 5ms/step - loss: 1.7222 - categorical_accuracy: 0.6429 - val_loss: 1.3210 - val_categorical_accuracy: 0.6430\n",
      "Epoch 8/100\n",
      "198/198 [==============================] - 1s 7ms/step - loss: 9.0952 - categorical_accuracy: 0.6367 - val_loss: 1.3072 - val_categorical_accuracy: 0.6430\n",
      "Epoch 9/100\n",
      "198/198 [==============================] - 1s 7ms/step - loss: 31.1496 - categorical_accuracy: 0.6388 - val_loss: 1.2997 - val_categorical_accuracy: 0.6430\n",
      "Epoch 10/100\n",
      "198/198 [==============================] - 1s 5ms/step - loss: 1.3110 - categorical_accuracy: 0.6371 - val_loss: 1.2955 - val_categorical_accuracy: 0.6430\n",
      "Epoch 11/100\n",
      "198/198 [==============================] - 1s 5ms/step - loss: 1.2804 - categorical_accuracy: 0.6496 - val_loss: 1.2934 - val_categorical_accuracy: 0.6430\n",
      "Epoch 12/100\n",
      "198/198 [==============================] - 1s 5ms/step - loss: 1.3179 - categorical_accuracy: 0.6333 - val_loss: 1.2923 - val_categorical_accuracy: 0.6430\n",
      "Epoch 13/100\n",
      "198/198 [==============================] - 1s 5ms/step - loss: 314.6915 - categorical_accuracy: 0.6459 - val_loss: 1.2918 - val_categorical_accuracy: 0.6430\n",
      "Epoch 14/100\n",
      "198/198 [==============================] - 1s 4ms/step - loss: 1.2778 - categorical_accuracy: 0.6490 - val_loss: 1.2916 - val_categorical_accuracy: 0.6430\n",
      "Epoch 15/100\n",
      "198/198 [==============================] - 1s 6ms/step - loss: 1.2868 - categorical_accuracy: 0.6449 - val_loss: 1.2915 - val_categorical_accuracy: 0.6430\n",
      "Epoch 16/100\n",
      "198/198 [==============================] - 1s 6ms/step - loss: 1.2827 - categorical_accuracy: 0.6467 - val_loss: 1.2914 - val_categorical_accuracy: 0.6430\n",
      "Epoch 17/100\n",
      "198/198 [==============================] - 1s 5ms/step - loss: 9.3750 - categorical_accuracy: 0.6394 - val_loss: 1.2914 - val_categorical_accuracy: 0.6430\n",
      "Epoch 18/100\n",
      "198/198 [==============================] - 1s 5ms/step - loss: 4.3888 - categorical_accuracy: 0.6389 - val_loss: 1.2914 - val_categorical_accuracy: 0.6430\n",
      "Epoch 19/100\n",
      "198/198 [==============================] - 1s 4ms/step - loss: 1.2787 - categorical_accuracy: 0.6484 - val_loss: 1.2914 - val_categorical_accuracy: 0.6430\n",
      "Epoch 20/100\n",
      "198/198 [==============================] - 1s 5ms/step - loss: 2.4065 - categorical_accuracy: 0.6452 - val_loss: 1.2914 - val_categorical_accuracy: 0.6430\n",
      "Epoch 21/100\n",
      "198/198 [==============================] - 1s 4ms/step - loss: 102.7092 - categorical_accuracy: 0.6478 - val_loss: 1.2914 - val_categorical_accuracy: 0.6430\n",
      "Epoch 22/100\n",
      "198/198 [==============================] - 1s 5ms/step - loss: 1.2915 - categorical_accuracy: 0.6430 - val_loss: 1.2913 - val_categorical_accuracy: 0.6430\n",
      "Epoch 23/100\n",
      "198/198 [==============================] - 1s 4ms/step - loss: 1.3876 - categorical_accuracy: 0.6479 - val_loss: 1.2913 - val_categorical_accuracy: 0.6430\n",
      "Epoch 24/100\n",
      "198/198 [==============================] - 1s 4ms/step - loss: 1.3151 - categorical_accuracy: 0.6455 - val_loss: 1.2913 - val_categorical_accuracy: 0.6430\n",
      "Epoch 25/100\n",
      "198/198 [==============================] - 1s 3ms/step - loss: 2.9542 - categorical_accuracy: 0.6448 - val_loss: 1.2913 - val_categorical_accuracy: 0.6430\n",
      "Epoch 26/100\n",
      "198/198 [==============================] - 1s 4ms/step - loss: 1.3104 - categorical_accuracy: 0.6350 - val_loss: 1.2914 - val_categorical_accuracy: 0.6430\n",
      "Epoch 27/100\n",
      "198/198 [==============================] - 1s 3ms/step - loss: 1.2958 - categorical_accuracy: 0.6411 - val_loss: 1.2913 - val_categorical_accuracy: 0.6430\n",
      "Epoch 28/100\n",
      "198/198 [==============================] - 1s 4ms/step - loss: 5.3682 - categorical_accuracy: 0.6412 - val_loss: 1.2913 - val_categorical_accuracy: 0.6430\n",
      "Epoch 29/100\n",
      "198/198 [==============================] - 1s 3ms/step - loss: 1.3139 - categorical_accuracy: 0.6335 - val_loss: 1.2913 - val_categorical_accuracy: 0.6430\n",
      "Epoch 30/100\n",
      "198/198 [==============================] - 1s 3ms/step - loss: 1.2911 - categorical_accuracy: 0.6432 - val_loss: 1.2914 - val_categorical_accuracy: 0.6430\n",
      "Epoch 31/100\n",
      "198/198 [==============================] - 1s 3ms/step - loss: 1.3136 - categorical_accuracy: 0.6337 - val_loss: 1.2914 - val_categorical_accuracy: 0.6430\n",
      "Epoch 32/100\n",
      "198/198 [==============================] - 1s 3ms/step - loss: 1.2752 - categorical_accuracy: 0.6498 - val_loss: 1.2913 - val_categorical_accuracy: 0.6430\n",
      "Epoch 33/100\n",
      "198/198 [==============================] - 1s 3ms/step - loss: 1.3115 - categorical_accuracy: 0.6346 - val_loss: 1.2913 - val_categorical_accuracy: 0.6430\n",
      "Epoch 34/100\n",
      "198/198 [==============================] - 1s 3ms/step - loss: 1.3178 - categorical_accuracy: 0.6318 - val_loss: 1.2913 - val_categorical_accuracy: 0.6430\n",
      "Epoch 35/100\n",
      "198/198 [==============================] - 1s 3ms/step - loss: 1.2939 - categorical_accuracy: 0.6420 - val_loss: 1.2913 - val_categorical_accuracy: 0.6430\n",
      "Epoch 36/100\n",
      "198/198 [==============================] - 1s 3ms/step - loss: 1.2959 - categorical_accuracy: 0.6411 - val_loss: 1.2913 - val_categorical_accuracy: 0.6430\n",
      "Epoch 37/100\n",
      "198/198 [==============================] - 1s 3ms/step - loss: 1.2832 - categorical_accuracy: 0.6464 - val_loss: 1.2913 - val_categorical_accuracy: 0.6430\n",
      "Epoch 38/100\n",
      "198/198 [==============================] - 1s 3ms/step - loss: 1.2856 - categorical_accuracy: 0.6454 - val_loss: 1.2914 - val_categorical_accuracy: 0.6430\n",
      "Epoch 39/100\n",
      "198/198 [==============================] - 1s 3ms/step - loss: 1.2942 - categorical_accuracy: 0.6418 - val_loss: 1.2913 - val_categorical_accuracy: 0.6430\n",
      "Epoch 40/100\n",
      "198/198 [==============================] - 1s 3ms/step - loss: 1.3021 - categorical_accuracy: 0.6386 - val_loss: 1.2914 - val_categorical_accuracy: 0.6430\n",
      "Epoch 41/100\n",
      "198/198 [==============================] - 1s 3ms/step - loss: 1.2882 - categorical_accuracy: 0.6443 - val_loss: 1.2914 - val_categorical_accuracy: 0.6430\n",
      "Epoch 42/100\n",
      "198/198 [==============================] - 1s 3ms/step - loss: 1.2889 - categorical_accuracy: 0.6440 - val_loss: 1.2914 - val_categorical_accuracy: 0.6430\n",
      "Epoch 43/100\n",
      "198/198 [==============================] - 1s 3ms/step - loss: 63.8610 - categorical_accuracy: 0.6535 - val_loss: 1.2914 - val_categorical_accuracy: 0.6430\n",
      "Epoch 44/100\n",
      "198/198 [==============================] - 1s 3ms/step - loss: 1.2930 - categorical_accuracy: 0.6422 - val_loss: 1.2913 - val_categorical_accuracy: 0.6430\n",
      "Epoch 45/100\n",
      "198/198 [==============================] - 1s 3ms/step - loss: 8.5249 - categorical_accuracy: 0.6424 - val_loss: 1.2913 - val_categorical_accuracy: 0.6430\n",
      "Epoch 46/100\n",
      "198/198 [==============================] - 1s 4ms/step - loss: 1.2915 - categorical_accuracy: 0.6429 - val_loss: 1.2913 - val_categorical_accuracy: 0.6430\n",
      "Epoch 47/100\n",
      "198/198 [==============================] - 1s 3ms/step - loss: 1.3063 - categorical_accuracy: 0.6367 - val_loss: 1.2913 - val_categorical_accuracy: 0.6430\n",
      "Epoch 48/100\n",
      "198/198 [==============================] - 1s 3ms/step - loss: 1.3121 - categorical_accuracy: 0.6343 - val_loss: 1.2913 - val_categorical_accuracy: 0.6430\n",
      "Epoch 49/100\n",
      "198/198 [==============================] - 1s 3ms/step - loss: 1.3003 - categorical_accuracy: 0.6392 - val_loss: 1.2913 - val_categorical_accuracy: 0.6430\n"
     ]
    },
    {
     "name": "stdout",
     "output_type": "stream",
     "text": [
      "Epoch 50/100\n",
      "198/198 [==============================] - 1s 3ms/step - loss: 1.2837 - categorical_accuracy: 0.6462 - val_loss: 1.2913 - val_categorical_accuracy: 0.6430\n",
      "Epoch 51/100\n",
      "198/198 [==============================] - 1s 3ms/step - loss: 1.3158 - categorical_accuracy: 0.6327 - val_loss: 1.2913 - val_categorical_accuracy: 0.6430\n",
      "Epoch 52/100\n",
      "198/198 [==============================] - 1s 3ms/step - loss: 1.2939 - categorical_accuracy: 0.6419 - val_loss: 1.2913 - val_categorical_accuracy: 0.6430\n",
      "Epoch 53/100\n",
      "198/198 [==============================] - 1s 3ms/step - loss: 1.2845 - categorical_accuracy: 0.6459 - val_loss: 1.2913 - val_categorical_accuracy: 0.6430\n",
      "Epoch 54/100\n",
      "198/198 [==============================] - 1s 3ms/step - loss: 1.3062 - categorical_accuracy: 0.6368 - val_loss: 1.2914 - val_categorical_accuracy: 0.6430\n",
      "Epoch 55/100\n",
      "198/198 [==============================] - 1s 3ms/step - loss: 1.2770 - categorical_accuracy: 0.6491 - val_loss: 1.2913 - val_categorical_accuracy: 0.6430\n",
      "Epoch 56/100\n",
      "198/198 [==============================] - 1s 3ms/step - loss: 1.2992 - categorical_accuracy: 0.6397 - val_loss: 1.2914 - val_categorical_accuracy: 0.6430\n",
      "Epoch 57/100\n",
      "198/198 [==============================] - 1s 3ms/step - loss: 8.3686 - categorical_accuracy: 0.6431 - val_loss: 1.2913 - val_categorical_accuracy: 0.6430\n",
      "Epoch 58/100\n",
      "198/198 [==============================] - 1s 3ms/step - loss: 1.2981 - categorical_accuracy: 0.6402 - val_loss: 1.2913 - val_categorical_accuracy: 0.6430\n",
      "Epoch 59/100\n",
      "198/198 [==============================] - 1s 3ms/step - loss: 1.3120 - categorical_accuracy: 0.6344 - val_loss: 1.2913 - val_categorical_accuracy: 0.6430\n",
      "Epoch 60/100\n",
      "198/198 [==============================] - 1s 3ms/step - loss: 1.2983 - categorical_accuracy: 0.6400 - val_loss: 1.2913 - val_categorical_accuracy: 0.6430\n",
      "Epoch 61/100\n",
      "198/198 [==============================] - 1s 3ms/step - loss: 1.2954 - categorical_accuracy: 0.6413 - val_loss: 1.2913 - val_categorical_accuracy: 0.6430\n",
      "Epoch 62/100\n",
      "198/198 [==============================] - 1s 3ms/step - loss: 1.2944 - categorical_accuracy: 0.6417 - val_loss: 1.2913 - val_categorical_accuracy: 0.6430\n",
      "Epoch 63/100\n",
      "198/198 [==============================] - 1s 3ms/step - loss: 1.3003 - categorical_accuracy: 0.6393 - val_loss: 1.2913 - val_categorical_accuracy: 0.6430\n",
      "Epoch 64/100\n",
      "198/198 [==============================] - 1s 3ms/step - loss: 1.3065 - categorical_accuracy: 0.6366 - val_loss: 1.2913 - val_categorical_accuracy: 0.6430\n",
      "Epoch 65/100\n",
      "198/198 [==============================] - 1s 3ms/step - loss: 1.2768 - categorical_accuracy: 0.6490 - val_loss: 1.2913 - val_categorical_accuracy: 0.6430\n",
      "Epoch 66/100\n",
      "198/198 [==============================] - 1s 3ms/step - loss: 1.2968 - categorical_accuracy: 0.6408 - val_loss: 1.2913 - val_categorical_accuracy: 0.6430\n",
      "Epoch 67/100\n",
      "198/198 [==============================] - 1s 3ms/step - loss: 1.2905 - categorical_accuracy: 0.6433 - val_loss: 1.2914 - val_categorical_accuracy: 0.6430\n",
      "Epoch 68/100\n",
      "198/198 [==============================] - 1s 3ms/step - loss: 1.3059 - categorical_accuracy: 0.6369 - val_loss: 1.2914 - val_categorical_accuracy: 0.6430\n",
      "Epoch 69/100\n",
      "198/198 [==============================] - 1s 3ms/step - loss: 1.8282 - categorical_accuracy: 0.6363 - val_loss: 1.2914 - val_categorical_accuracy: 0.6430\n",
      "Epoch 70/100\n",
      "198/198 [==============================] - 1s 3ms/step - loss: 1.2970 - categorical_accuracy: 0.6406 - val_loss: 1.2913 - val_categorical_accuracy: 0.6430\n",
      "Epoch 71/100\n",
      "198/198 [==============================] - 1s 3ms/step - loss: 1.3010 - categorical_accuracy: 0.6389 - val_loss: 1.2914 - val_categorical_accuracy: 0.6430\n",
      "Epoch 72/100\n",
      "198/198 [==============================] - 1s 3ms/step - loss: 1.3078 - categorical_accuracy: 0.6361 - val_loss: 1.2913 - val_categorical_accuracy: 0.6430\n",
      "Epoch 73/100\n",
      "198/198 [==============================] - 1s 4ms/step - loss: 1.2871 - categorical_accuracy: 0.6448 - val_loss: 1.2913 - val_categorical_accuracy: 0.6430\n",
      "Epoch 74/100\n",
      "198/198 [==============================] - 1s 4ms/step - loss: 1.2841 - categorical_accuracy: 0.6460 - val_loss: 1.2914 - val_categorical_accuracy: 0.6430\n",
      "Epoch 75/100\n",
      "198/198 [==============================] - 1s 4ms/step - loss: 1.3128 - categorical_accuracy: 0.6339 - val_loss: 1.2913 - val_categorical_accuracy: 0.6430\n",
      "Epoch 76/100\n",
      "198/198 [==============================] - 1s 4ms/step - loss: 1.2904 - categorical_accuracy: 0.6434 - val_loss: 1.2913 - val_categorical_accuracy: 0.6430\n",
      "Epoch 77/100\n",
      "198/198 [==============================] - 1s 4ms/step - loss: 1.3061 - categorical_accuracy: 0.6368 - val_loss: 1.2913 - val_categorical_accuracy: 0.6430\n",
      "Epoch 78/100\n",
      "198/198 [==============================] - 1s 3ms/step - loss: 1.2687 - categorical_accuracy: 0.6525 - val_loss: 1.2914 - val_categorical_accuracy: 0.6430\n",
      "Epoch 79/100\n",
      "198/198 [==============================] - 1s 3ms/step - loss: 1.3052 - categorical_accuracy: 0.6373 - val_loss: 1.2914 - val_categorical_accuracy: 0.6430\n",
      "Epoch 80/100\n",
      "198/198 [==============================] - 1s 3ms/step - loss: 1.3151 - categorical_accuracy: 0.6330 - val_loss: 1.2913 - val_categorical_accuracy: 0.6430\n",
      "Epoch 81/100\n",
      "198/198 [==============================] - 1s 3ms/step - loss: 1.3087 - categorical_accuracy: 0.6357 - val_loss: 1.2914 - val_categorical_accuracy: 0.6430\n",
      "Epoch 82/100\n",
      "198/198 [==============================] - 1s 3ms/step - loss: 1.3064 - categorical_accuracy: 0.6367 - val_loss: 1.2913 - val_categorical_accuracy: 0.6430\n",
      "Epoch 83/100\n",
      "198/198 [==============================] - 1s 3ms/step - loss: 1.2956 - categorical_accuracy: 0.6412 - val_loss: 1.2914 - val_categorical_accuracy: 0.6430\n",
      "Epoch 84/100\n",
      "198/198 [==============================] - 1s 3ms/step - loss: 1.3075 - categorical_accuracy: 0.6362 - val_loss: 1.2914 - val_categorical_accuracy: 0.6430\n",
      "Epoch 85/100\n",
      "198/198 [==============================] - 1s 3ms/step - loss: 1.2621 - categorical_accuracy: 0.6553 - val_loss: 1.2914 - val_categorical_accuracy: 0.6430\n",
      "Epoch 86/100\n",
      "198/198 [==============================] - 1s 3ms/step - loss: 1.2827 - categorical_accuracy: 0.6466 - val_loss: 1.2914 - val_categorical_accuracy: 0.6430\n",
      "Epoch 87/100\n",
      "198/198 [==============================] - 1s 3ms/step - loss: 1.2933 - categorical_accuracy: 0.6422 - val_loss: 1.2913 - val_categorical_accuracy: 0.6430\n",
      "Epoch 88/100\n",
      "198/198 [==============================] - 1s 3ms/step - loss: 1.2771 - categorical_accuracy: 0.6491 - val_loss: 1.2913 - val_categorical_accuracy: 0.6430\n",
      "Epoch 89/100\n",
      "198/198 [==============================] - 1s 4ms/step - loss: 1.3090 - categorical_accuracy: 0.6356 - val_loss: 1.2913 - val_categorical_accuracy: 0.6430\n",
      "Epoch 90/100\n",
      "198/198 [==============================] - 1s 3ms/step - loss: 1.2888 - categorical_accuracy: 0.6441 - val_loss: 1.2913 - val_categorical_accuracy: 0.6430\n",
      "Epoch 91/100\n",
      "198/198 [==============================] - 1s 4ms/step - loss: 1.2894 - categorical_accuracy: 0.6438 - val_loss: 1.2913 - val_categorical_accuracy: 0.6430\n",
      "Epoch 92/100\n",
      "198/198 [==============================] - 1s 5ms/step - loss: 1.3060 - categorical_accuracy: 0.6369 - val_loss: 1.2913 - val_categorical_accuracy: 0.6430\n",
      "Epoch 93/100\n",
      "198/198 [==============================] - 1s 4ms/step - loss: 1.3082 - categorical_accuracy: 0.6360 - val_loss: 1.2913 - val_categorical_accuracy: 0.6430\n",
      "Epoch 94/100\n",
      "198/198 [==============================] - 1s 4ms/step - loss: 1.2925 - categorical_accuracy: 0.6426 - val_loss: 1.2913 - val_categorical_accuracy: 0.6430\n",
      "Epoch 95/100\n",
      "198/198 [==============================] - 1s 4ms/step - loss: 1.2811 - categorical_accuracy: 0.6473 - val_loss: 1.2913 - val_categorical_accuracy: 0.6430\n",
      "Epoch 96/100\n",
      "198/198 [==============================] - 1s 4ms/step - loss: 1.3025 - categorical_accuracy: 0.6383 - val_loss: 1.2913 - val_categorical_accuracy: 0.6430\n",
      "Epoch 97/100\n",
      "198/198 [==============================] - 1s 5ms/step - loss: 1.3043 - categorical_accuracy: 0.6375 - val_loss: 1.2913 - val_categorical_accuracy: 0.6430\n",
      "Epoch 98/100\n",
      "198/198 [==============================] - 1s 3ms/step - loss: 1.2951 - categorical_accuracy: 0.6414 - val_loss: 1.2913 - val_categorical_accuracy: 0.6430\n"
     ]
    },
    {
     "name": "stdout",
     "output_type": "stream",
     "text": [
      "Epoch 99/100\n",
      "198/198 [==============================] - 1s 4ms/step - loss: 1.3233 - categorical_accuracy: 0.6296 - val_loss: 1.2914 - val_categorical_accuracy: 0.6430\n",
      "Epoch 100/100\n",
      "198/198 [==============================] - 1s 4ms/step - loss: 1.3032 - categorical_accuracy: 0.6380 - val_loss: 1.2913 - val_categorical_accuracy: 0.6430\n"
     ]
    }
   ],
   "source": [
    "history_2 = model.fit(X_train, y_train, epochs = 100, batch_size=32, validation_split=0.1)"
   ]
  },
  {
   "cell_type": "code",
   "execution_count": 96,
   "metadata": {},
   "outputs": [
    {
     "data": {
      "text/plain": [
       "[<matplotlib.lines.Line2D at 0x7f59d0cc9df0>]"
      ]
     },
     "execution_count": 96,
     "metadata": {},
     "output_type": "execute_result"
    },
    {
     "data": {
      "image/png": "[encoded data removed]",
      "text/plain": [
       "<Figure size 432x288 with 1 Axes>"
      ]
     },
     "metadata": {
      "needs_background": "light"
     },
     "output_type": "display_data"
    }
   ],
   "source": [
    "plt.plot(history_2.history['loss'])\n",
    "plt.plot(history_2.history['val_loss'])"
   ]
  },
  {
   "cell_type": "code",
   "execution_count": 97,
   "metadata": {},
   "outputs": [
    {
     "name": "stdout",
     "output_type": "stream",
     "text": [
      "220/220 [==============================] - 0s 2ms/step - loss: 0.6847 - categorical_accuracy: 0.7528\n"
     ]
    },
    {
     "data": {
      "text/plain": [
       "[0.6846734285354614, 0.7528105974197388]"
      ]
     },
     "metadata": {},
     "output_type": "display_data"
    }
   ],
   "source": [
    "# Train score\n",
    "score = model.evaluate(X_train, y_train)\n",
    "display(score)"
   ]
  },
  {
   "cell_type": "code",
   "execution_count": 98,
   "metadata": {},
   "outputs": [
    {
     "name": "stdout",
     "output_type": "stream",
     "text": [
      "41/41 [==============================] - 0s 2ms/step - loss: 1.3205 - categorical_accuracy: 0.6237\n"
     ]
    },
    {
     "data": {
      "text/plain": [
       "[1.3205066919326782, 0.6237471103668213]"
      ]
     },
     "metadata": {},
     "output_type": "display_data"
    }
   ],
   "source": [
    "test_score = model.evaluate(X_test, y_test)\n",
    "display(test_score)"
   ]
  },
  {
   "cell_type": "markdown",
   "metadata": {
    "id": "VA2A9-4xFfdF"
   },
   "source": []
  },
  {
   "cell_type": "code",
   "execution_count": 64,
   "metadata": {},
   "outputs": [
    {
     "data": {
      "text/plain": [
       "array([[691,  27,  20,  30,   8,  11,  22],\n",
       "       [ 54,  28,   0,   3,   0,   0,   0],\n",
       "       [ 27,   0,  20,  16,   1,   1,  13],\n",
       "       [ 30,   1,  10,  20,   0,   2,  15],\n",
       "       [ 28,   0,  10,   1,  33,   8,   4],\n",
       "       [ 49,   0,   1,   0,  14,  13,   4],\n",
       "       [ 30,   0,  15,  19,   0,   0,  18]])"
      ]
     },
     "metadata": {},
     "output_type": "display_data"
    },
    {
     "data": {
      "text/plain": [
       "0.6345412490362374"
      ]
     },
     "metadata": {},
     "output_type": "display_data"
    }
   ],
   "source": [
    "y_pred = model.predict(X_test)\n",
    "validate_model(y_pred, y_test)"
   ]
  }
 ],
 "metadata": {
  "colab": {
   "collapsed_sections": [],
   "name": "EMG_DL_Comparison.ipynb",
   "provenance": [],
   "toc_visible": true
  },
  "kernelspec": {
   "display_name": "final_project",
   "language": "python",
   "name": "final_project"
  },
  "language_info": {
   "codemirror_mode": {
    "name": "ipython",
    "version": 3
   },
   "file_extension": ".py",
   "mimetype": "text/x-python",
   "name": "python",
   "nbconvert_exporter": "python",
   "pygments_lexer": "ipython3",
   "version": "3.8.5"
  }
 },
 "nbformat": 4,
 "nbformat_minor": 5
}
