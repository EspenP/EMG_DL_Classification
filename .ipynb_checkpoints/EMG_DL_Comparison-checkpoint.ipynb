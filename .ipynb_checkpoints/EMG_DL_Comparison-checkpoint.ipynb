{
 "cells": [
  {
   "cell_type": "code",
   "execution_count": 3,
   "metadata": {
    "colab": {
     "base_uri": "https://localhost:8080/"
    },
    "id": "k1rUvaKJ5JId",
    "outputId": "7573a747-4854-4273-85d4-24808d79516c"
   },
   "outputs": [],
   "source": [
    "import pandas as pd\n",
    "from os import listdir\n",
    "from os.path import isfile, join\n",
    "import numpy as np\n",
    "# from google.colab import drive\n",
    "# drive.mount('/content/gdrive')"
   ]
  },
  {
   "cell_type": "code",
   "execution_count": 4,
   "metadata": {
    "id": "Ot2juGQq5JIf"
   },
   "outputs": [],
   "source": [
    "data_path = 'EMG_data_for_gestures-master/'\n",
    "# data_path = '/content/gdrive/MyDrive/' + data_path\n",
    "num_participants = 36\n",
    "\n",
    "def retrieve_data(participant_range = (0,30), \n",
    "                  additional_participants = [], # For adding participants out of the range\n",
    "                  data_path = data_path):\n",
    "    participants = list(additional_participants)\n",
    "    by_participant_dfs = list()\n",
    "    for i in range(*participant_range):\n",
    "        dir_string = str(i+1)\n",
    "        if i <= 8:\n",
    "            dir_string = '0' + dir_string\n",
    "        participants.append(dir_string)\n",
    "    \n",
    "    for participant in participants:\n",
    "        path = data_path + participant\n",
    "        files = [f for f in listdir(path) if isfile(join(path, f))]\n",
    "        participant_dfs = []\n",
    "        for f in files:\n",
    "            df = pd.read_csv(path + '/' + f, sep='\\t')\n",
    "            df['Participant'] = participant\n",
    "            participant_dfs.append(df)            \n",
    "\n",
    "        by_participant_dfs.append(pd.concat(participant_dfs))\n",
    "\n",
    "    full_df = pd.concat(by_participant_dfs)\n",
    "    \n",
    "    # Fix the index\n",
    "    num_rows = len(full_df.index)\n",
    "    new_index = np.arange(0,num_rows)\n",
    "    return full_df.set_index(new_index), participants"
   ]
  },
  {
   "cell_type": "code",
   "execution_count": 5,
   "metadata": {
    "colab": {
     "base_uri": "https://localhost:8080/",
     "height": 424
    },
    "id": "7wmzxF4G5JIh",
    "outputId": "a24a23fa-6033-4732-b432-b9b8b786b8b1",
    "scrolled": false
   },
   "outputs": [
    {
     "data": {
      "text/html": [
       "<div>\n",
       "<style scoped>\n",
       "    .dataframe tbody tr th:only-of-type {\n",
       "        vertical-align: middle;\n",
       "    }\n",
       "\n",
       "    .dataframe tbody tr th {\n",
       "        vertical-align: top;\n",
       "    }\n",
       "\n",
       "    .dataframe thead th {\n",
       "        text-align: right;\n",
       "    }\n",
       "</style>\n",
       "<table border=\"1\" class=\"dataframe\">\n",
       "  <thead>\n",
       "    <tr style=\"text-align: right;\">\n",
       "      <th></th>\n",
       "      <th>time</th>\n",
       "      <th>channel1</th>\n",
       "      <th>channel2</th>\n",
       "      <th>channel3</th>\n",
       "      <th>channel4</th>\n",
       "      <th>channel5</th>\n",
       "      <th>channel6</th>\n",
       "      <th>channel7</th>\n",
       "      <th>channel8</th>\n",
       "      <th>class</th>\n",
       "      <th>Participant</th>\n",
       "    </tr>\n",
       "  </thead>\n",
       "  <tbody>\n",
       "    <tr>\n",
       "      <th>0</th>\n",
       "      <td>2</td>\n",
       "      <td>-0.00001</td>\n",
       "      <td>-0.00004</td>\n",
       "      <td>-0.00002</td>\n",
       "      <td>-0.00002</td>\n",
       "      <td>-0.00001</td>\n",
       "      <td>-0.00001</td>\n",
       "      <td>0.00001</td>\n",
       "      <td>-0.00003</td>\n",
       "      <td>0</td>\n",
       "      <td>01</td>\n",
       "    </tr>\n",
       "    <tr>\n",
       "      <th>1</th>\n",
       "      <td>6</td>\n",
       "      <td>-0.00001</td>\n",
       "      <td>-0.00004</td>\n",
       "      <td>-0.00002</td>\n",
       "      <td>-0.00002</td>\n",
       "      <td>-0.00001</td>\n",
       "      <td>-0.00001</td>\n",
       "      <td>0.00001</td>\n",
       "      <td>-0.00003</td>\n",
       "      <td>0</td>\n",
       "      <td>01</td>\n",
       "    </tr>\n",
       "    <tr>\n",
       "      <th>2</th>\n",
       "      <td>7</td>\n",
       "      <td>-0.00001</td>\n",
       "      <td>-0.00004</td>\n",
       "      <td>-0.00002</td>\n",
       "      <td>-0.00002</td>\n",
       "      <td>-0.00001</td>\n",
       "      <td>-0.00001</td>\n",
       "      <td>0.00001</td>\n",
       "      <td>-0.00003</td>\n",
       "      <td>0</td>\n",
       "      <td>01</td>\n",
       "    </tr>\n",
       "    <tr>\n",
       "      <th>3</th>\n",
       "      <td>8</td>\n",
       "      <td>-0.00003</td>\n",
       "      <td>-0.00005</td>\n",
       "      <td>-0.00008</td>\n",
       "      <td>-0.00004</td>\n",
       "      <td>-0.00003</td>\n",
       "      <td>0.00000</td>\n",
       "      <td>-0.00002</td>\n",
       "      <td>0.00000</td>\n",
       "      <td>0</td>\n",
       "      <td>01</td>\n",
       "    </tr>\n",
       "    <tr>\n",
       "      <th>4</th>\n",
       "      <td>9</td>\n",
       "      <td>-0.00003</td>\n",
       "      <td>-0.00001</td>\n",
       "      <td>0.00000</td>\n",
       "      <td>0.00001</td>\n",
       "      <td>-0.00001</td>\n",
       "      <td>0.00000</td>\n",
       "      <td>0.00000</td>\n",
       "      <td>-0.00002</td>\n",
       "      <td>0</td>\n",
       "      <td>01</td>\n",
       "    </tr>\n",
       "    <tr>\n",
       "      <th>...</th>\n",
       "      <td>...</td>\n",
       "      <td>...</td>\n",
       "      <td>...</td>\n",
       "      <td>...</td>\n",
       "      <td>...</td>\n",
       "      <td>...</td>\n",
       "      <td>...</td>\n",
       "      <td>...</td>\n",
       "      <td>...</td>\n",
       "      <td>...</td>\n",
       "      <td>...</td>\n",
       "    </tr>\n",
       "    <tr>\n",
       "      <th>3579387</th>\n",
       "      <td>72888</td>\n",
       "      <td>-0.00002</td>\n",
       "      <td>-0.00002</td>\n",
       "      <td>-0.00002</td>\n",
       "      <td>-0.00008</td>\n",
       "      <td>0.00000</td>\n",
       "      <td>-0.00002</td>\n",
       "      <td>-0.00002</td>\n",
       "      <td>-0.00001</td>\n",
       "      <td>0</td>\n",
       "      <td>30</td>\n",
       "    </tr>\n",
       "    <tr>\n",
       "      <th>3579388</th>\n",
       "      <td>72889</td>\n",
       "      <td>-0.00002</td>\n",
       "      <td>-0.00002</td>\n",
       "      <td>-0.00002</td>\n",
       "      <td>-0.00008</td>\n",
       "      <td>0.00000</td>\n",
       "      <td>-0.00002</td>\n",
       "      <td>-0.00002</td>\n",
       "      <td>-0.00001</td>\n",
       "      <td>0</td>\n",
       "      <td>30</td>\n",
       "    </tr>\n",
       "    <tr>\n",
       "      <th>3579389</th>\n",
       "      <td>72890</td>\n",
       "      <td>-0.00002</td>\n",
       "      <td>-0.00002</td>\n",
       "      <td>-0.00002</td>\n",
       "      <td>-0.00008</td>\n",
       "      <td>0.00000</td>\n",
       "      <td>-0.00002</td>\n",
       "      <td>-0.00002</td>\n",
       "      <td>-0.00001</td>\n",
       "      <td>0</td>\n",
       "      <td>30</td>\n",
       "    </tr>\n",
       "    <tr>\n",
       "      <th>3579390</th>\n",
       "      <td>72891</td>\n",
       "      <td>-0.00005</td>\n",
       "      <td>-0.00002</td>\n",
       "      <td>0.00001</td>\n",
       "      <td>-0.00001</td>\n",
       "      <td>-0.00002</td>\n",
       "      <td>0.00003</td>\n",
       "      <td>0.00001</td>\n",
       "      <td>-0.00001</td>\n",
       "      <td>0</td>\n",
       "      <td>30</td>\n",
       "    </tr>\n",
       "    <tr>\n",
       "      <th>3579391</th>\n",
       "      <td>72892</td>\n",
       "      <td>0.00005</td>\n",
       "      <td>0.00000</td>\n",
       "      <td>-0.00001</td>\n",
       "      <td>0.00000</td>\n",
       "      <td>-0.00001</td>\n",
       "      <td>-0.00002</td>\n",
       "      <td>-0.00002</td>\n",
       "      <td>-0.00002</td>\n",
       "      <td>0</td>\n",
       "      <td>30</td>\n",
       "    </tr>\n",
       "  </tbody>\n",
       "</table>\n",
       "<p>3579392 rows × 11 columns</p>\n",
       "</div>"
      ],
      "text/plain": [
       "          time  channel1  channel2  channel3  channel4  channel5  channel6  \\\n",
       "0            2  -0.00001  -0.00004  -0.00002  -0.00002  -0.00001  -0.00001   \n",
       "1            6  -0.00001  -0.00004  -0.00002  -0.00002  -0.00001  -0.00001   \n",
       "2            7  -0.00001  -0.00004  -0.00002  -0.00002  -0.00001  -0.00001   \n",
       "3            8  -0.00003  -0.00005  -0.00008  -0.00004  -0.00003   0.00000   \n",
       "4            9  -0.00003  -0.00001   0.00000   0.00001  -0.00001   0.00000   \n",
       "...        ...       ...       ...       ...       ...       ...       ...   \n",
       "3579387  72888  -0.00002  -0.00002  -0.00002  -0.00008   0.00000  -0.00002   \n",
       "3579388  72889  -0.00002  -0.00002  -0.00002  -0.00008   0.00000  -0.00002   \n",
       "3579389  72890  -0.00002  -0.00002  -0.00002  -0.00008   0.00000  -0.00002   \n",
       "3579390  72891  -0.00005  -0.00002   0.00001  -0.00001  -0.00002   0.00003   \n",
       "3579391  72892   0.00005   0.00000  -0.00001   0.00000  -0.00001  -0.00002   \n",
       "\n",
       "         channel7  channel8  class Participant  \n",
       "0         0.00001  -0.00003      0          01  \n",
       "1         0.00001  -0.00003      0          01  \n",
       "2         0.00001  -0.00003      0          01  \n",
       "3        -0.00002   0.00000      0          01  \n",
       "4         0.00000  -0.00002      0          01  \n",
       "...           ...       ...    ...         ...  \n",
       "3579387  -0.00002  -0.00001      0          30  \n",
       "3579388  -0.00002  -0.00001      0          30  \n",
       "3579389  -0.00002  -0.00001      0          30  \n",
       "3579390   0.00001  -0.00001      0          30  \n",
       "3579391  -0.00002  -0.00002      0          30  \n",
       "\n",
       "[3579392 rows x 11 columns]"
      ]
     },
     "metadata": {},
     "output_type": "display_data"
    }
   ],
   "source": [
    "train_df, participants_train = retrieve_data()\n",
    "test_df, participants_test = retrieve_data(participant_range = (30,36))\n",
    "display(train_df)\n"
   ]
  },
  {
   "cell_type": "markdown",
   "metadata": {
    "id": "XtV-Y_0q5JIk"
   },
   "source": [
    "## Preprocessing\n",
    "We will use the filteremg function from lab4, as well as a fast fourier transform on each window"
   ]
  },
  {
   "cell_type": "code",
   "execution_count": 6,
   "metadata": {
    "id": "A0ZyKf155JIl"
   },
   "outputs": [],
   "source": [
    "import scipy as sp\n",
    "import scipy.signal\n",
    "\n",
    "def filteremg(emg, low_pass=10, sfreq=1000, high_band=20, low_band=450):\n",
    "    \"\"\"\n",
    "    emg: EMG data\n",
    "    high: high-pass cut off frequency\n",
    "    low: low-pass cut off frequency\n",
    "    sfreq: sampling frequency\n",
    "    \"\"\"\n",
    "    # normalise cut-off frequencies to sampling frequency\n",
    "    high_band = high_band/(sfreq/2)\n",
    "    low_band = low_band/(sfreq/2)\n",
    "    \n",
    "    # create bandpass filter for EMG\n",
    "    b1, a1 = sp.signal.butter(4, [high_band,low_band], btype='bandpass')\n",
    "    \n",
    "    # process EMG signal: filter EMG\n",
    "    emg_filtered = sp.signal.filtfilt(b1, a1, emg)    \n",
    "    \n",
    "    # process EMG signal: rectify\n",
    "    emg_rectified = abs(emg_filtered)\n",
    "    \n",
    "    # create lowpass filter and apply to rectified signal to get EMG envelope\n",
    "    low_pass = low_pass/(sfreq/2)\n",
    "    b2, a2 = sp.signal.butter(4, low_pass, btype='lowpass')\n",
    "    emg_envelope = sp.signal.filtfilt(b2, a2, emg_rectified)\n",
    "    \n",
    "    return emg_envelope"
   ]
  },
  {
   "cell_type": "code",
   "execution_count": 7,
   "metadata": {
    "id": "VAOhnH3g5JIm"
   },
   "outputs": [],
   "source": [
    "channels = ['channel' + str(i) for i in range(1,9)]\n",
    "train_df[channels] = train_df[channels].apply(filteremg)\n",
    "test_df[channels] = test_df[channels].apply(filteremg)"
   ]
  },
  {
   "cell_type": "code",
   "execution_count": 8,
   "metadata": {
    "id": "yytEk19N5JIm"
   },
   "outputs": [],
   "source": [
    "# Windowed DF\n",
    "\n",
    "# Returns a list of windowed for each participants dataframes\n",
    "def generate_windowed_dfs(df, participants, window_size, stride):\n",
    "    windows = []\n",
    "    grouped_df = df.groupby(['Participant'])\n",
    "    for participant in participants:\n",
    "        p_df = grouped_df.get_group(participant)\n",
    "        dfs = sliding_window(p_df, window_size=window_size, stride=stride)\n",
    "        windows.extend(dfs)\n",
    "    return windows\n",
    "\n",
    "def sliding_window(df, window_size, stride, fs=1000): # Do sampling based on num of rows\n",
    "\n",
    "    # This function only works for continous dfs (not multiple combined participant dfs)\n",
    "    dfs = []\n",
    "    df_cop = df.copy() # create copy of dataframe\n",
    "    starting_index = df_cop.index[0]\n",
    "    ending_index = int(df_cop.index[0] + fs*window_size)\n",
    "    while ending_index <= df_cop.index[-1]:\n",
    "        windowed_df = df_cop.loc[(df_cop.index >= starting_index) & (df_cop.index <= ending_index)]\n",
    "        dfs.append(windowed_df)\n",
    "        starting_index = int(starting_index + fs*stride)\n",
    "        ending_index = int(ending_index + fs*stride)\n",
    "    return dfs\n",
    "\n",
    "\n",
    "train_windows = generate_windowed_dfs(train_df, participants_train, 2, 0.5) # Do 1 s strides\n",
    "test_windows = generate_windowed_dfs(test_df, participants_test, 2, 0.5)"
   ]
  },
  {
   "cell_type": "code",
   "execution_count": 9,
   "metadata": {
    "colab": {
     "base_uri": "https://localhost:8080/",
     "height": 69
    },
    "id": "mWqgpAT35JIm",
    "outputId": "aec6f75b-558e-4e4f-b96f-20cb0d76ccc6"
   },
   "outputs": [
    {
     "data": {
      "text/plain": [
       "(2001, 11)"
      ]
     },
     "metadata": {},
     "output_type": "display_data"
    },
    {
     "data": {
      "text/plain": [
       "array([2.45789188e-06, 2.63861282e-06, 2.81942149e-06, ...,\n",
       "       1.52379223e-05, 1.53573062e-05, 1.54628037e-05])"
      ]
     },
     "metadata": {},
     "output_type": "display_data"
    }
   ],
   "source": [
    "display(train_windows[0].shape)\n",
    "display(train_windows[0]['channel1'].values)"
   ]
  },
  {
   "cell_type": "code",
   "execution_count": 26,
   "metadata": {
    "colab": {
     "base_uri": "https://localhost:8080/",
     "height": 328
    },
    "id": "ymgC_HWn5JIn",
    "outputId": "ba976983-e69f-469f-ca0d-210a3852667b"
   },
   "outputs": [],
   "source": [
    "from scipy import signal\n",
    "from scipy.stats import moment\n",
    "import matplotlib.pyplot as plt\n",
    "from scipy.fft import fft, fftfreq\n",
    "from math import *\n",
    "from more_itertools import distinct_combinations\n",
    "# From https://ataspinar.com/2018/04/04/machine-learning-with-signal-processing-techniques/\n",
    "def autocorr(x):\n",
    "    result = np.correlate(x, x, mode='full')\n",
    "    return result[len(result)//2:]\n",
    " \n",
    "def get_autocorr_values(y_values, T, N, f_s):\n",
    "    autocorr_values = autocorr(y_values)\n",
    "    x_values = np.array([T * jj for jj in range(0, N)])\n",
    "    return x_values, autocorr_values\n",
    "\n",
    "def extract_channel_features(channel_data, fs): # Channel data should be a 1D array\n",
    "    chan_feats = dict()\n",
    "    # Time domain features\n",
    "    chan_feats['mean'] = np.mean(channel_data)\n",
    "    chan_feats['variance'] = np.var(channel_data)\n",
    "    chan_feats['rms'] = np.sqrt(np.mean(channel_data**2))\n",
    "    chan_feats['second_moment'] = moment(channel_data, moment=2)\n",
    "    chan_feats['mav'] = np.sqrt(np.mean(abs(channel_data)))\n",
    "    \n",
    "    # Calculate Willison Amplitude and zero crossings\n",
    "    chan_max = np.amax(channel_data)\n",
    "    thresh = 0.3 * chan_max\n",
    "    will_amp = 0\n",
    "    zcrossings = 0\n",
    "    for i in range(len(channel_data) - 1):\n",
    "        if abs(channel_data[i] - channel_data[i+1]) > thresh:\n",
    "            will_amp += 1\n",
    "        if (channel_data[i] / channel_data[i+1]) < 0:\n",
    "            zcrossings += 1\n",
    "            \n",
    "    chan_feats['wamp'] = will_amp\n",
    "    chan_feats['zcrossings'] = zcrossings\n",
    "    \n",
    "    \n",
    "    # Calculate energy so we can calculate the energy later on.\n",
    "    energy = np.sum(channel_data**2)\n",
    "    \n",
    "    # PSD features\n",
    "    f, P = signal.welch(channel_data, fs, 'flattop', nperseg=2001, scaling='spectrum')\n",
    "    max_ind = np.argmax(P)\n",
    "    chan_feats['peak_frequency'] = f[max_ind]\n",
    "    chan_feats['power_max'] = np.sqrt(P[max_ind])\n",
    "    # chan_feats['power_mean'] = np.mean(P)\n",
    "\n",
    "    # Frequency domain features\n",
    "    N = 2001\n",
    "    T = N / 1000\n",
    "    yf = fft(channel_data)\n",
    "    yf = 2.0/N * np.abs(yf[0:N//2])\n",
    "    xf = fftfreq(N, T)[:N//2]\n",
    "    ind = np.argmax(yf)\n",
    "    chan_feats['max_freq'] = xf[ind]\n",
    "    chan_feats['fft_peak'] = np.sqrt(yf[ind])\n",
    "\n",
    "    t_values, autocorr_values = get_autocorr_values(channel_data, T, N, fs)\n",
    "    min_ind = np.argmin(autocorr_values)\n",
    "    autocorr_values = autocorr_values[min_ind:]\n",
    "    ind = np.argmax(autocorr_values)\n",
    "    chan_feats['max_corr'] = autocorr_values[ind]\n",
    "    chan_feats['corr_time'] = t_values[ind]\n",
    "    \n",
    "    return chan_feats, energy\n",
    "    \n",
    "def extract_window_features(df, channels, fs=1000):\n",
    "    window_feats = dict()\n",
    "    df_cop = df.copy()\n",
    "    energies = list()\n",
    "    for chan in channels:\n",
    "        chan_data =  df[chan].values\n",
    "        chan_feats, energy = extract_channel_features(chan_data, fs)\n",
    "        energies.append(energy)\n",
    "        keys = list(chan_feats.keys())\n",
    "        for key in keys:\n",
    "            window_feats[chan + '_' + key] = chan_feats[key]\n",
    "            \n",
    "    norm_value = np.sum(df['channel1'].values)\n",
    "    ind_combs = list(distinct_combinations([0,1,2,3,4,5,6,7], 2))\n",
    "    for ind in ind_combs:\n",
    "        first = ind[0]\n",
    "        second = ind[1]\n",
    "        window_feats[str(first) + '_' + str(second) + '_energy_ration'] = (energies[first] / energies[second]) / (energies[second] / norm_value)\n",
    "                \n",
    "    return pd.DataFrame(window_feats, index=[0])"
   ]
  },
  {
   "cell_type": "markdown",
   "metadata": {
    "id": "0VTiJ8Ui5JIq"
   },
   "source": [
    "## Format data for LSTM"
   ]
  },
  {
   "cell_type": "code",
   "execution_count": 24,
   "metadata": {
    "id": "WmVVZkuW5JIs"
   },
   "outputs": [],
   "source": [
    "from sklearn.preprocessing import StandardScaler\n",
    "from tensorflow.keras.utils import to_categorical\n",
    "from scipy.stats import mode\n",
    "\n",
    "def format_data_for_lstm(windows, min_confidence=0.5): # Confidence level will cause any windows \n",
    "    channels = ['channel' + str(i + 1) for i in range(8)] # where the mode count is less than 0.7 * size                                                          # To be thrown out\n",
    "    # Put windowed dfs into a 3d array                    # to be thrown out\n",
    "    X = list()\n",
    "    y = list()\n",
    "    for window in windows:\n",
    "        df = window.copy()\n",
    "#         data = np.array(df[[col for col in df.columns if col in channels]])\n",
    "        # We want a label for each windowed set of data\n",
    "        labels = pd.to_numeric(df['class'].values)\n",
    "        mode_data = mode(labels)\n",
    "        m = mode_data[0][0]\n",
    "        count = mode_data[1][0]\n",
    "        confidence = float(count) / float(df.shape[0])\n",
    "        if confidence < min_confidence:\n",
    "            continue # Throw out dataset if more than 30% of it is unmarked\n",
    "        if m == 7: # Throw out window if it is 7, which is not a class all participants use\n",
    "            continue\n",
    "        \n",
    "        feat_df = extract_window_features(window,channels)\n",
    "        data = feat_df.values\n",
    "        \n",
    "        y.append(m)\n",
    "        X.append(data)\n",
    "        \n",
    "    X = np.array(X)\n",
    "    y = np.array(y)\n",
    "    y = to_categorical(y)\n",
    "    return X, y\n",
    "\n",
    "# print(X_train.shape)\n",
    "# print(X_test.shape)\n",
    "# channel_scalers = {}\n",
    "# for i in range(X_train.shape[2]):\n",
    "#     channel_scalers[i] = StandardScaler()\n",
    "#     X_train[:, :, i] = channel_scalers[i].fit_transform(X_train[:, :, i])\n",
    "#     X_test[:, :, i] = channel_scalers[i].transform(X_test[: , :, i])\n",
    "     \n",
    "# y_train = to_categorical(y_train)\n",
    "# y_test = to_categorical(y_test)\n"
   ]
  },
  {
   "cell_type": "code",
   "execution_count": 27,
   "metadata": {
    "colab": {
     "base_uri": "https://localhost:8080/",
     "height": 173
    },
    "id": "_N4v5IWk5JIt",
    "outputId": "b4c4e97a-ae24-49b9-c9e8-467a3a493eb7"
   },
   "outputs": [
    {
     "data": {
      "text/plain": [
       "(7027, 1, 132)"
      ]
     },
     "metadata": {},
     "output_type": "display_data"
    },
    {
     "data": {
      "text/plain": [
       "(7027, 7)"
      ]
     },
     "metadata": {},
     "output_type": "display_data"
    },
    {
     "data": {
      "text/plain": [
       "array([[0., 1., 0., ..., 0., 0., 0.],\n",
       "       [0., 1., 0., ..., 0., 0., 0.],\n",
       "       [0., 1., 0., ..., 0., 0., 0.],\n",
       "       ...,\n",
       "       [1., 0., 0., ..., 0., 0., 0.],\n",
       "       [1., 0., 0., ..., 0., 0., 0.],\n",
       "       [1., 0., 0., ..., 0., 0., 0.]], dtype=float32)"
      ]
     },
     "metadata": {},
     "output_type": "display_data"
    }
   ],
   "source": [
    "X_train, y_train = format_data_for_lstm(train_windows)\n",
    "X_test, y_test = format_data_for_lstm(test_windows)\n",
    "display(X_train.shape, y_train.shape)\n",
    "display(y_train)"
   ]
  },
  {
   "cell_type": "markdown",
   "metadata": {
    "id": "gjf8YZfe5JIt"
   },
   "source": [
    "## Model\n",
    "Now we will define our model"
   ]
  },
  {
   "cell_type": "code",
   "execution_count": 30,
   "metadata": {
    "id": "f5kc7BiQ5JIt"
   },
   "outputs": [],
   "source": [
    "import tensorflow as tf\n",
    "from tensorflow import keras\n",
    "from tensorflow.keras.layers import LSTM, Dense, Dropout\n",
    "from tensorflow.keras.utils import to_categorical\n",
    "from tensorflow.keras.metrics import categorical_accuracy\n",
    "\n",
    "model = keras.Sequential()\n",
    "model.add(LSTM(units=1024,\n",
    "              dropout=0.3,\n",
    "              recurrent_dropout=0.3,\n",
    "              activation = 'tanh', \n",
    "              name = 'layer0', \n",
    "              return_sequences=False, \n",
    "              input_shape=(1, 132)))\n",
    "\n",
    "model.add(Dense(64, activation='relu'))\n",
    "\n",
    "model.add(Dense(7, name='output', activation='softmax')) # Need activation function\n",
    "model.compile(optimizer='adam', loss='categorical_crossentropy', metrics=[categorical_accuracy])"
   ]
  },
  {
   "cell_type": "code",
   "execution_count": 31,
   "metadata": {},
   "outputs": [],
   "source": [
    "from sklearn.metrics import confusion_matrix\n",
    "from sklearn.metrics import accuracy_score\n",
    "\n",
    "def pre_process_data(data, participants):\n",
    "    channels = ['channel' + str(i + 1) for i in range(8)] # where the mode count is less than 0.7 * size                                                          # To be thrown out\n",
    "    data[channels] = data[channels].apply(filteremg)\n",
    "    windows = generate_windowed_dfs(data, participants, 2, 0.5)\n",
    "    X, y = format_data_for_lstm(windows)\n",
    "    return X, y\n",
    "\n",
    "def validate_model(y_pred, y_test):\n",
    "    y_pred_c = np.argmax(y_pred, axis=1)\n",
    "    y_test_c = np.argmax(y_test, axis=1)\n",
    "    # display(y_pred_c, y_test_c)\n",
    "    cm = confusion_matrix(y_test_c, y_pred_c)\n",
    "    display(cm)\n",
    "    display(accuracy_score(y_pred_c, y_test_c))"
   ]
  },
  {
   "cell_type": "code",
   "execution_count": 32,
   "metadata": {
    "colab": {
     "base_uri": "https://localhost:8080/"
    },
    "id": "EdPmRnG95JIu",
    "outputId": "4542036b-9210-4271-f934-3e36827b2487"
   },
   "outputs": [
    {
     "name": "stdout",
     "output_type": "stream",
     "text": [
      "Epoch 1/100\n",
      "198/198 [==============================] - 4s 9ms/step - loss: 1.6760 - categorical_accuracy: 0.3911 - val_loss: 1.1827 - val_categorical_accuracy: 0.6430\n",
      "Epoch 2/100\n",
      "198/198 [==============================] - 2s 9ms/step - loss: 1.1407 - categorical_accuracy: 0.6442 - val_loss: 1.0828 - val_categorical_accuracy: 0.6373\n",
      "Epoch 3/100\n",
      "198/198 [==============================] - 2s 10ms/step - loss: 1.0373 - categorical_accuracy: 0.6435 - val_loss: 1.0657 - val_categorical_accuracy: 0.6472\n",
      "Epoch 4/100\n",
      " 71/198 [=========>....................] - ETA: 1s - loss: 0.9791 - categorical_accuracy: 0.6517"
     ]
    },
    {
     "ename": "KeyboardInterrupt",
     "evalue": "",
     "output_type": "error",
     "traceback": [
      "\u001b[0;31m---------------------------------------------------------------------------\u001b[0m",
      "\u001b[0;31mKeyboardInterrupt\u001b[0m                         Traceback (most recent call last)",
      "\u001b[0;32m<ipython-input-32-db101004635b>\u001b[0m in \u001b[0;36m<module>\u001b[0;34m\u001b[0m\n\u001b[1;32m      1\u001b[0m \u001b[0;31m# Train model\u001b[0m\u001b[0;34m\u001b[0m\u001b[0;34m\u001b[0m\u001b[0;34m\u001b[0m\u001b[0m\n\u001b[0;32m----> 2\u001b[0;31m \u001b[0mhistory\u001b[0m \u001b[0;34m=\u001b[0m \u001b[0mmodel\u001b[0m\u001b[0;34m.\u001b[0m\u001b[0mfit\u001b[0m\u001b[0;34m(\u001b[0m\u001b[0mX_train\u001b[0m\u001b[0;34m,\u001b[0m \u001b[0my_train\u001b[0m\u001b[0;34m,\u001b[0m \u001b[0mepochs\u001b[0m \u001b[0;34m=\u001b[0m \u001b[0;36m100\u001b[0m\u001b[0;34m,\u001b[0m \u001b[0mbatch_size\u001b[0m\u001b[0;34m=\u001b[0m\u001b[0;36m32\u001b[0m\u001b[0;34m,\u001b[0m \u001b[0mvalidation_split\u001b[0m\u001b[0;34m=\u001b[0m\u001b[0;36m0.1\u001b[0m\u001b[0;34m)\u001b[0m\u001b[0;34m\u001b[0m\u001b[0;34m\u001b[0m\u001b[0m\n\u001b[0m",
      "\u001b[0;32m~/miniconda3/envs/final_project/lib/python3.8/site-packages/tensorflow/python/keras/engine/training.py\u001b[0m in \u001b[0;36mfit\u001b[0;34m(self, x, y, batch_size, epochs, verbose, callbacks, validation_split, validation_data, shuffle, class_weight, sample_weight, initial_epoch, steps_per_epoch, validation_steps, validation_batch_size, validation_freq, max_queue_size, workers, use_multiprocessing)\u001b[0m\n\u001b[1;32m   1098\u001b[0m                 _r=1):\n\u001b[1;32m   1099\u001b[0m               \u001b[0mcallbacks\u001b[0m\u001b[0;34m.\u001b[0m\u001b[0mon_train_batch_begin\u001b[0m\u001b[0;34m(\u001b[0m\u001b[0mstep\u001b[0m\u001b[0;34m)\u001b[0m\u001b[0;34m\u001b[0m\u001b[0;34m\u001b[0m\u001b[0m\n\u001b[0;32m-> 1100\u001b[0;31m               \u001b[0mtmp_logs\u001b[0m \u001b[0;34m=\u001b[0m \u001b[0mself\u001b[0m\u001b[0;34m.\u001b[0m\u001b[0mtrain_function\u001b[0m\u001b[0;34m(\u001b[0m\u001b[0miterator\u001b[0m\u001b[0;34m)\u001b[0m\u001b[0;34m\u001b[0m\u001b[0;34m\u001b[0m\u001b[0m\n\u001b[0m\u001b[1;32m   1101\u001b[0m               \u001b[0;32mif\u001b[0m \u001b[0mdata_handler\u001b[0m\u001b[0;34m.\u001b[0m\u001b[0mshould_sync\u001b[0m\u001b[0;34m:\u001b[0m\u001b[0;34m\u001b[0m\u001b[0;34m\u001b[0m\u001b[0m\n\u001b[1;32m   1102\u001b[0m                 \u001b[0mcontext\u001b[0m\u001b[0;34m.\u001b[0m\u001b[0masync_wait\u001b[0m\u001b[0;34m(\u001b[0m\u001b[0;34m)\u001b[0m\u001b[0;34m\u001b[0m\u001b[0;34m\u001b[0m\u001b[0m\n",
      "\u001b[0;32m~/miniconda3/envs/final_project/lib/python3.8/site-packages/tensorflow/python/eager/def_function.py\u001b[0m in \u001b[0;36m__call__\u001b[0;34m(self, *args, **kwds)\u001b[0m\n\u001b[1;32m    826\u001b[0m     \u001b[0mtracing_count\u001b[0m \u001b[0;34m=\u001b[0m \u001b[0mself\u001b[0m\u001b[0;34m.\u001b[0m\u001b[0mexperimental_get_tracing_count\u001b[0m\u001b[0;34m(\u001b[0m\u001b[0;34m)\u001b[0m\u001b[0;34m\u001b[0m\u001b[0;34m\u001b[0m\u001b[0m\n\u001b[1;32m    827\u001b[0m     \u001b[0;32mwith\u001b[0m \u001b[0mtrace\u001b[0m\u001b[0;34m.\u001b[0m\u001b[0mTrace\u001b[0m\u001b[0;34m(\u001b[0m\u001b[0mself\u001b[0m\u001b[0;34m.\u001b[0m\u001b[0m_name\u001b[0m\u001b[0;34m)\u001b[0m \u001b[0;32mas\u001b[0m \u001b[0mtm\u001b[0m\u001b[0;34m:\u001b[0m\u001b[0;34m\u001b[0m\u001b[0;34m\u001b[0m\u001b[0m\n\u001b[0;32m--> 828\u001b[0;31m       \u001b[0mresult\u001b[0m \u001b[0;34m=\u001b[0m \u001b[0mself\u001b[0m\u001b[0;34m.\u001b[0m\u001b[0m_call\u001b[0m\u001b[0;34m(\u001b[0m\u001b[0;34m*\u001b[0m\u001b[0margs\u001b[0m\u001b[0;34m,\u001b[0m \u001b[0;34m**\u001b[0m\u001b[0mkwds\u001b[0m\u001b[0;34m)\u001b[0m\u001b[0;34m\u001b[0m\u001b[0;34m\u001b[0m\u001b[0m\n\u001b[0m\u001b[1;32m    829\u001b[0m       \u001b[0mcompiler\u001b[0m \u001b[0;34m=\u001b[0m \u001b[0;34m\"xla\"\u001b[0m \u001b[0;32mif\u001b[0m \u001b[0mself\u001b[0m\u001b[0;34m.\u001b[0m\u001b[0m_experimental_compile\u001b[0m \u001b[0;32melse\u001b[0m \u001b[0;34m\"nonXla\"\u001b[0m\u001b[0;34m\u001b[0m\u001b[0;34m\u001b[0m\u001b[0m\n\u001b[1;32m    830\u001b[0m       \u001b[0mnew_tracing_count\u001b[0m \u001b[0;34m=\u001b[0m \u001b[0mself\u001b[0m\u001b[0;34m.\u001b[0m\u001b[0mexperimental_get_tracing_count\u001b[0m\u001b[0;34m(\u001b[0m\u001b[0;34m)\u001b[0m\u001b[0;34m\u001b[0m\u001b[0;34m\u001b[0m\u001b[0m\n",
      "\u001b[0;32m~/miniconda3/envs/final_project/lib/python3.8/site-packages/tensorflow/python/eager/def_function.py\u001b[0m in \u001b[0;36m_call\u001b[0;34m(self, *args, **kwds)\u001b[0m\n\u001b[1;32m    853\u001b[0m       \u001b[0;31m# In this case we have created variables on the first call, so we run the\u001b[0m\u001b[0;34m\u001b[0m\u001b[0;34m\u001b[0m\u001b[0;34m\u001b[0m\u001b[0m\n\u001b[1;32m    854\u001b[0m       \u001b[0;31m# defunned version which is guaranteed to never create variables.\u001b[0m\u001b[0;34m\u001b[0m\u001b[0;34m\u001b[0m\u001b[0;34m\u001b[0m\u001b[0m\n\u001b[0;32m--> 855\u001b[0;31m       \u001b[0;32mreturn\u001b[0m \u001b[0mself\u001b[0m\u001b[0;34m.\u001b[0m\u001b[0m_stateless_fn\u001b[0m\u001b[0;34m(\u001b[0m\u001b[0;34m*\u001b[0m\u001b[0margs\u001b[0m\u001b[0;34m,\u001b[0m \u001b[0;34m**\u001b[0m\u001b[0mkwds\u001b[0m\u001b[0;34m)\u001b[0m  \u001b[0;31m# pylint: disable=not-callable\u001b[0m\u001b[0;34m\u001b[0m\u001b[0;34m\u001b[0m\u001b[0m\n\u001b[0m\u001b[1;32m    856\u001b[0m     \u001b[0;32melif\u001b[0m \u001b[0mself\u001b[0m\u001b[0;34m.\u001b[0m\u001b[0m_stateful_fn\u001b[0m \u001b[0;32mis\u001b[0m \u001b[0;32mnot\u001b[0m \u001b[0;32mNone\u001b[0m\u001b[0;34m:\u001b[0m\u001b[0;34m\u001b[0m\u001b[0;34m\u001b[0m\u001b[0m\n\u001b[1;32m    857\u001b[0m       \u001b[0;31m# Release the lock early so that multiple threads can perform the call\u001b[0m\u001b[0;34m\u001b[0m\u001b[0;34m\u001b[0m\u001b[0;34m\u001b[0m\u001b[0m\n",
      "\u001b[0;32m~/miniconda3/envs/final_project/lib/python3.8/site-packages/tensorflow/python/eager/function.py\u001b[0m in \u001b[0;36m__call__\u001b[0;34m(self, *args, **kwargs)\u001b[0m\n\u001b[1;32m   2940\u001b[0m       (graph_function,\n\u001b[1;32m   2941\u001b[0m        filtered_flat_args) = self._maybe_define_function(args, kwargs)\n\u001b[0;32m-> 2942\u001b[0;31m     return graph_function._call_flat(\n\u001b[0m\u001b[1;32m   2943\u001b[0m         filtered_flat_args, captured_inputs=graph_function.captured_inputs)  # pylint: disable=protected-access\n\u001b[1;32m   2944\u001b[0m \u001b[0;34m\u001b[0m\u001b[0m\n",
      "\u001b[0;32m~/miniconda3/envs/final_project/lib/python3.8/site-packages/tensorflow/python/eager/function.py\u001b[0m in \u001b[0;36m_call_flat\u001b[0;34m(self, args, captured_inputs, cancellation_manager)\u001b[0m\n\u001b[1;32m   1916\u001b[0m         and executing_eagerly):\n\u001b[1;32m   1917\u001b[0m       \u001b[0;31m# No tape is watching; skip to running the function.\u001b[0m\u001b[0;34m\u001b[0m\u001b[0;34m\u001b[0m\u001b[0;34m\u001b[0m\u001b[0m\n\u001b[0;32m-> 1918\u001b[0;31m       return self._build_call_outputs(self._inference_function.call(\n\u001b[0m\u001b[1;32m   1919\u001b[0m           ctx, args, cancellation_manager=cancellation_manager))\n\u001b[1;32m   1920\u001b[0m     forward_backward = self._select_forward_and_backward_functions(\n",
      "\u001b[0;32m~/miniconda3/envs/final_project/lib/python3.8/site-packages/tensorflow/python/eager/function.py\u001b[0m in \u001b[0;36mcall\u001b[0;34m(self, ctx, args, cancellation_manager)\u001b[0m\n\u001b[1;32m    553\u001b[0m       \u001b[0;32mwith\u001b[0m \u001b[0m_InterpolateFunctionError\u001b[0m\u001b[0;34m(\u001b[0m\u001b[0mself\u001b[0m\u001b[0;34m)\u001b[0m\u001b[0;34m:\u001b[0m\u001b[0;34m\u001b[0m\u001b[0;34m\u001b[0m\u001b[0m\n\u001b[1;32m    554\u001b[0m         \u001b[0;32mif\u001b[0m \u001b[0mcancellation_manager\u001b[0m \u001b[0;32mis\u001b[0m \u001b[0;32mNone\u001b[0m\u001b[0;34m:\u001b[0m\u001b[0;34m\u001b[0m\u001b[0;34m\u001b[0m\u001b[0m\n\u001b[0;32m--> 555\u001b[0;31m           outputs = execute.execute(\n\u001b[0m\u001b[1;32m    556\u001b[0m               \u001b[0mstr\u001b[0m\u001b[0;34m(\u001b[0m\u001b[0mself\u001b[0m\u001b[0;34m.\u001b[0m\u001b[0msignature\u001b[0m\u001b[0;34m.\u001b[0m\u001b[0mname\u001b[0m\u001b[0;34m)\u001b[0m\u001b[0;34m,\u001b[0m\u001b[0;34m\u001b[0m\u001b[0;34m\u001b[0m\u001b[0m\n\u001b[1;32m    557\u001b[0m               \u001b[0mnum_outputs\u001b[0m\u001b[0;34m=\u001b[0m\u001b[0mself\u001b[0m\u001b[0;34m.\u001b[0m\u001b[0m_num_outputs\u001b[0m\u001b[0;34m,\u001b[0m\u001b[0;34m\u001b[0m\u001b[0;34m\u001b[0m\u001b[0m\n",
      "\u001b[0;32m~/miniconda3/envs/final_project/lib/python3.8/site-packages/tensorflow/python/eager/execute.py\u001b[0m in \u001b[0;36mquick_execute\u001b[0;34m(op_name, num_outputs, inputs, attrs, ctx, name)\u001b[0m\n\u001b[1;32m     57\u001b[0m   \u001b[0;32mtry\u001b[0m\u001b[0;34m:\u001b[0m\u001b[0;34m\u001b[0m\u001b[0;34m\u001b[0m\u001b[0m\n\u001b[1;32m     58\u001b[0m     \u001b[0mctx\u001b[0m\u001b[0;34m.\u001b[0m\u001b[0mensure_initialized\u001b[0m\u001b[0;34m(\u001b[0m\u001b[0;34m)\u001b[0m\u001b[0;34m\u001b[0m\u001b[0;34m\u001b[0m\u001b[0m\n\u001b[0;32m---> 59\u001b[0;31m     tensors = pywrap_tfe.TFE_Py_Execute(ctx._handle, device_name, op_name,\n\u001b[0m\u001b[1;32m     60\u001b[0m                                         inputs, attrs, num_outputs)\n\u001b[1;32m     61\u001b[0m   \u001b[0;32mexcept\u001b[0m \u001b[0mcore\u001b[0m\u001b[0;34m.\u001b[0m\u001b[0m_NotOkStatusException\u001b[0m \u001b[0;32mas\u001b[0m \u001b[0me\u001b[0m\u001b[0;34m:\u001b[0m\u001b[0;34m\u001b[0m\u001b[0;34m\u001b[0m\u001b[0m\n",
      "\u001b[0;31mKeyboardInterrupt\u001b[0m: "
     ]
    }
   ],
   "source": [
    "# Train model\n",
    "history = model.fit(X_train, y_train, epochs = 100, batch_size=32, validation_split=0.1)"
   ]
  },
  {
   "cell_type": "code",
   "execution_count": 91,
   "metadata": {
    "colab": {
     "base_uri": "https://localhost:8080/",
     "height": 282
    },
    "id": "lbo93ChgkkUD",
    "outputId": "9dd2b0e2-3ba0-4457-d747-8b2acc9ac912"
   },
   "outputs": [
    {
     "data": {
      "text/plain": [
       "[<matplotlib.lines.Line2D at 0x7f59d2e6e6d0>]"
      ]
     },
     "execution_count": 91,
     "metadata": {},
     "output_type": "execute_result"
    },
    {
     "data": {
      "image/png": "[encoded data removed]",
      "text/plain": [
       "<Figure size 432x288 with 1 Axes>"
      ]
     },
     "metadata": {
      "needs_background": "light"
     },
     "output_type": "display_data"
    }
   ],
   "source": [
    "plt.plot(history.history['loss'])\n",
    "plt.plot(history.history['val_loss'])"
   ]
  },
  {
   "cell_type": "code",
   "execution_count": 92,
   "metadata": {
    "colab": {
     "base_uri": "https://localhost:8080/",
     "height": 52
    },
    "id": "NZraSD8f5JIu",
    "outputId": "d1933e2f-9fe8-4904-a118-a97f67003892"
   },
   "outputs": [
    {
     "name": "stdout",
     "output_type": "stream",
     "text": [
      "220/220 [==============================] - 1s 2ms/step - loss: 0.7199 - categorical_accuracy: 0.7148\n"
     ]
    },
    {
     "data": {
      "text/plain": [
       "[0.719883143901825, 0.714814305305481]"
      ]
     },
     "metadata": {},
     "output_type": "display_data"
    }
   ],
   "source": [
    "# Evaluate model\n",
    "score = model.evaluate(X_train, y_train)\n",
    "display(score)"
   ]
  },
  {
   "cell_type": "code",
   "execution_count": 93,
   "metadata": {
    "colab": {
     "base_uri": "https://localhost:8080/",
     "height": 52
    },
    "id": "xHx-24Cz5JIv",
    "outputId": "f55c2608-6a55-4489-e02d-8922fd183c25"
   },
   "outputs": [
    {
     "name": "stdout",
     "output_type": "stream",
     "text": [
      "41/41 [==============================] - 0s 3ms/step - loss: 0.7936 - categorical_accuracy: 0.6831\n"
     ]
    },
    {
     "data": {
      "text/plain": [
       "[0.7935947179794312, 0.6831148862838745]"
      ]
     },
     "metadata": {},
     "output_type": "display_data"
    }
   ],
   "source": [
    "test_score = model.evaluate(X_test, y_test)\n",
    "display(test_score)"
   ]
  },
  {
   "cell_type": "code",
   "execution_count": 82,
   "metadata": {
    "colab": {
     "base_uri": "https://localhost:8080/",
     "height": 173
    },
    "id": "AQTGfBrjKOOY",
    "outputId": "b6a1ac8a-1ae9-4481-daad-90e53ff27952"
   },
   "outputs": [
    {
     "data": {
      "text/plain": [
       "(1297, 1, 80)"
      ]
     },
     "metadata": {},
     "output_type": "display_data"
    },
    {
     "data": {
      "text/plain": [
       "array([[724,  38,  12,   3,  15,   2,  15],\n",
       "       [ 36,  49,   0,   0,   0,   0,   0],\n",
       "       [ 35,   0,  32,   4,   0,   0,   7],\n",
       "       [ 41,   0,  14,  14,   0,   0,   9],\n",
       "       [ 30,   0,   2,   0,  48,   0,   4],\n",
       "       [ 65,   0,   0,   0,  10,   6,   0],\n",
       "       [ 39,   0,   8,   2,   0,   0,  33]])"
      ]
     },
     "metadata": {},
     "output_type": "display_data"
    },
    {
     "data": {
      "text/plain": [
       "0.6985350809560524"
      ]
     },
     "metadata": {},
     "output_type": "display_data"
    }
   ],
   "source": [
    "from sklearn.metrics import confusion_matrix\n",
    "from sklearn.metrics import accuracy_score\n",
    "display(X_test.shape)\n",
    "y_pred = model.predict(X_test)\n",
    "y_pred_c = np.argmax(y_pred, axis=1)\n",
    "y_test_c = np.argmax(y_test, axis=1)\n",
    "# display(y_pred_c, y_test_c)\n",
    "cm = confusion_matrix(y_test_c, y_pred_c)\n",
    "display(cm)\n",
    "display(accuracy_score(y_pred_c, y_test_c))"
   ]
  },
  {
   "cell_type": "code",
   "execution_count": 84,
   "metadata": {
    "colab": {
     "base_uri": "https://localhost:8080/"
    },
    "id": "5XNRjC84kuSU",
    "outputId": "c7e67ca8-8267-458e-cd64-b0aa65d0acab"
   },
   "outputs": [
    {
     "name": "stdout",
     "output_type": "stream",
     "text": [
      "INFO:tensorflow:Assets written to: Models/lstm_model/assets\n"
     ]
    }
   ],
   "source": [
    "model.save('Models/lstm_model')"
   ]
  },
  {
   "cell_type": "code",
   "execution_count": 27,
   "metadata": {},
   "outputs": [],
   "source": [
    "test_data, participants = retrieve_data(participant_range=(0,30))\n",
    "train_data, train_participants = retrieve_data(participant_range=(30,36))\n",
    "X_train, y_train = pre_process_data(test_data, participants)\n",
    "X_test, y_test = pre_process_data(train_data, train_participants)"
   ]
  },
  {
   "cell_type": "code",
   "execution_count": 29,
   "metadata": {},
   "outputs": [
    {
     "data": {
      "text/plain": [
       "(7027, 1, 80)"
      ]
     },
     "metadata": {},
     "output_type": "display_data"
    },
    {
     "data": {
      "text/plain": [
       "(7027, 7)"
      ]
     },
     "metadata": {},
     "output_type": "display_data"
    }
   ],
   "source": [
    "display(X_train.shape, y_train.shape)"
   ]
  },
  {
   "cell_type": "code",
   "execution_count": 99,
   "metadata": {},
   "outputs": [
    {
     "data": {
      "text/plain": [
       "0.6418101608083108"
      ]
     },
     "metadata": {},
     "output_type": "display_data"
    }
   ],
   "source": [
    "count = 0\n",
    "for row in y_train:\n",
    "    gest = np.argmax(row)\n",
    "    if gest == 0:\n",
    "        count += 1\n",
    "        \n",
    "display(count / len(y_train))"
   ]
  },
  {
   "cell_type": "markdown",
   "metadata": {
    "colab": {
     "base_uri": "https://localhost:8080/",
     "height": 156
    },
    "id": "i19vytJyL8tW",
    "outputId": "9f488d95-e4ab-4a4d-ad64-b92ca0a77e34"
   },
   "source": [
    "## Create, Train and Test the Second Model\n",
    "The second model uses Independent Recurrent cells as proposed by this paper \n",
    "https://arxiv.org/abs/1803.04831"
   ]
  },
  {
   "cell_type": "code",
   "execution_count": 94,
   "metadata": {},
   "outputs": [],
   "source": [
    "from ind_rnn import RNN, IndRNNCell\n",
    "import tensorflow as tf\n",
    "from tensorflow import keras\n",
    "from tensorflow.keras.layers import Dense, Dropout\n",
    "from tensorflow.keras.utils import to_categorical\n",
    "from tensorflow.keras.metrics import categorical_accuracy\n",
    "\n",
    "model = keras.Sequential()\n",
    "cells = [IndRNNCell(256), IndRNNCell(256)] # Default activation is ReLU\n",
    "model.add(RNN(cells, input_shape = (1,80)))\n",
    "model.add(Dropout(0.3))\n",
    "model.add(Dense(16, activation='relu'))\n",
    "model.add(Dropout(0.3))\n",
    "model.add(Dense(7, name='output', activation='softmax')) # Need activation function\n",
    "model.compile(optimizer='adam', loss='categorical_crossentropy', metrics=[categorical_accuracy])"
   ]
  },
  {
   "cell_type": "code",
   "execution_count": 95,
   "metadata": {},
   "outputs": [
    {
     "name": "stdout",
     "output_type": "stream",
     "text": [
      "Epoch 1/100\n",
      "198/198 [==============================] - 3s 7ms/step - loss: 1.7378 - categorical_accuracy: 0.5328 - val_loss: 1.1894 - val_categorical_accuracy: 0.6430\n",
      "Epoch 2/100\n",
      "198/198 [==============================] - 1s 4ms/step - loss: 1.2066 - categorical_accuracy: 0.6423 - val_loss: 1.2442 - val_categorical_accuracy: 0.6430\n",
      "Epoch 3/100\n",
      "198/198 [==============================] - 1s 4ms/step - loss: 1.1782 - categorical_accuracy: 0.6389 - val_loss: 1.1569 - val_categorical_accuracy: 0.6430\n",
      "Epoch 4/100\n",
      "198/198 [==============================] - 1s 4ms/step - loss: 1.1302 - categorical_accuracy: 0.6429 - val_loss: 1.1665 - val_categorical_accuracy: 0.6430\n",
      "Epoch 5/100\n",
      "198/198 [==============================] - 1s 4ms/step - loss: 1.1115 - categorical_accuracy: 0.6512 - val_loss: 1.1576 - val_categorical_accuracy: 0.6430\n",
      "Epoch 6/100\n",
      "198/198 [==============================] - 1s 5ms/step - loss: 1.1215 - categorical_accuracy: 0.6363 - val_loss: 1.1649 - val_categorical_accuracy: 0.6430\n",
      "Epoch 7/100\n",
      "198/198 [==============================] - 1s 4ms/step - loss: 1.1382 - categorical_accuracy: 0.6394 - val_loss: 1.1552 - val_categorical_accuracy: 0.6430\n",
      "Epoch 8/100\n",
      "198/198 [==============================] - 1s 4ms/step - loss: 1.1191 - categorical_accuracy: 0.6387 - val_loss: 1.1550 - val_categorical_accuracy: 0.6430\n",
      "Epoch 9/100\n",
      "198/198 [==============================] - 1s 4ms/step - loss: 1.1096 - categorical_accuracy: 0.6428 - val_loss: 1.1391 - val_categorical_accuracy: 0.6430\n",
      "Epoch 10/100\n",
      "198/198 [==============================] - 1s 4ms/step - loss: 1.1059 - categorical_accuracy: 0.6368 - val_loss: 1.1467 - val_categorical_accuracy: 0.6430\n",
      "Epoch 11/100\n",
      "198/198 [==============================] - 1s 4ms/step - loss: 1.0974 - categorical_accuracy: 0.6445 - val_loss: 1.1444 - val_categorical_accuracy: 0.6430\n",
      "Epoch 12/100\n",
      "198/198 [==============================] - 1s 4ms/step - loss: 1.1128 - categorical_accuracy: 0.6395 - val_loss: 1.1499 - val_categorical_accuracy: 0.6430\n",
      "Epoch 13/100\n",
      "198/198 [==============================] - 1s 4ms/step - loss: 1.1100 - categorical_accuracy: 0.6417 - val_loss: 1.1465 - val_categorical_accuracy: 0.6430\n",
      "Epoch 14/100\n",
      "198/198 [==============================] - 1s 4ms/step - loss: 1.1255 - categorical_accuracy: 0.6299 - val_loss: 1.1453 - val_categorical_accuracy: 0.6430\n",
      "Epoch 15/100\n",
      "198/198 [==============================] - 1s 5ms/step - loss: 1.0833 - categorical_accuracy: 0.6493 - val_loss: 1.1499 - val_categorical_accuracy: 0.6430\n",
      "Epoch 16/100\n",
      "198/198 [==============================] - 1s 5ms/step - loss: 1.1104 - categorical_accuracy: 0.6358 - val_loss: 1.1480 - val_categorical_accuracy: 0.6430\n",
      "Epoch 17/100\n",
      "198/198 [==============================] - 1s 4ms/step - loss: 1.0644 - categorical_accuracy: 0.6502 - val_loss: 1.1554 - val_categorical_accuracy: 0.6430\n",
      "Epoch 18/100\n",
      "198/198 [==============================] - 1s 4ms/step - loss: 1.0825 - categorical_accuracy: 0.6428 - val_loss: 1.1384 - val_categorical_accuracy: 0.6430\n",
      "Epoch 19/100\n",
      "198/198 [==============================] - 1s 5ms/step - loss: 1.1054 - categorical_accuracy: 0.6290 - val_loss: 1.1577 - val_categorical_accuracy: 0.6430\n",
      "Epoch 20/100\n",
      "198/198 [==============================] - 1s 4ms/step - loss: 1.0837 - categorical_accuracy: 0.6409 - val_loss: 1.1538 - val_categorical_accuracy: 0.6430\n",
      "Epoch 21/100\n",
      "198/198 [==============================] - 1s 4ms/step - loss: 1.0688 - categorical_accuracy: 0.6535 - val_loss: 1.1484 - val_categorical_accuracy: 0.6430\n",
      "Epoch 22/100\n",
      "198/198 [==============================] - 1s 4ms/step - loss: 1.1038 - categorical_accuracy: 0.6262 - val_loss: 1.1528 - val_categorical_accuracy: 0.6430\n",
      "Epoch 23/100\n",
      "198/198 [==============================] - 1s 4ms/step - loss: 1.0809 - categorical_accuracy: 0.6461 - val_loss: 1.1513 - val_categorical_accuracy: 0.6430\n",
      "Epoch 24/100\n",
      "198/198 [==============================] - 1s 4ms/step - loss: 1.0614 - categorical_accuracy: 0.6496 - val_loss: 1.1542 - val_categorical_accuracy: 0.6430\n",
      "Epoch 25/100\n",
      "198/198 [==============================] - 1s 4ms/step - loss: 1.0622 - categorical_accuracy: 0.6533 - val_loss: 1.1590 - val_categorical_accuracy: 0.6430\n",
      "Epoch 26/100\n",
      "198/198 [==============================] - 1s 4ms/step - loss: 1.0752 - categorical_accuracy: 0.6380 - val_loss: 1.1633 - val_categorical_accuracy: 0.6430\n",
      "Epoch 27/100\n",
      "198/198 [==============================] - 1s 4ms/step - loss: 1.0842 - categorical_accuracy: 0.6330 - val_loss: 1.1584 - val_categorical_accuracy: 0.6430\n",
      "Epoch 28/100\n",
      "198/198 [==============================] - 1s 4ms/step - loss: 1.0635 - categorical_accuracy: 0.6499 - val_loss: 1.1500 - val_categorical_accuracy: 0.6430\n",
      "Epoch 29/100\n",
      "198/198 [==============================] - 1s 4ms/step - loss: 1.0614 - categorical_accuracy: 0.6400 - val_loss: 1.1662 - val_categorical_accuracy: 0.6430\n",
      "Epoch 30/100\n",
      "198/198 [==============================] - 1s 4ms/step - loss: 1.0554 - categorical_accuracy: 0.6393 - val_loss: 1.1597 - val_categorical_accuracy: 0.6430\n",
      "Epoch 31/100\n",
      "198/198 [==============================] - 1s 4ms/step - loss: 1.0514 - categorical_accuracy: 0.6417 - val_loss: 1.1526 - val_categorical_accuracy: 0.6430\n",
      "Epoch 32/100\n",
      "198/198 [==============================] - 1s 4ms/step - loss: 1.0513 - categorical_accuracy: 0.6443 - val_loss: 1.1533 - val_categorical_accuracy: 0.6430\n",
      "Epoch 33/100\n",
      "198/198 [==============================] - 1s 4ms/step - loss: 1.0579 - categorical_accuracy: 0.6403 - val_loss: 1.1925 - val_categorical_accuracy: 0.6430\n",
      "Epoch 34/100\n",
      "198/198 [==============================] - 1s 6ms/step - loss: 1.0252 - categorical_accuracy: 0.6492 - val_loss: 1.1631 - val_categorical_accuracy: 0.6430\n",
      "Epoch 35/100\n",
      "198/198 [==============================] - 1s 4ms/step - loss: 1.0500 - categorical_accuracy: 0.6402 - val_loss: 1.1630 - val_categorical_accuracy: 0.6430\n",
      "Epoch 36/100\n",
      "198/198 [==============================] - 1s 4ms/step - loss: 1.0478 - categorical_accuracy: 0.6384 - val_loss: 1.1720 - val_categorical_accuracy: 0.6430\n",
      "Epoch 37/100\n",
      "198/198 [==============================] - 1s 4ms/step - loss: 1.0370 - categorical_accuracy: 0.6433 - val_loss: 1.1807 - val_categorical_accuracy: 0.6430\n",
      "Epoch 38/100\n",
      "198/198 [==============================] - 1s 4ms/step - loss: 1.0346 - categorical_accuracy: 0.6393 - val_loss: 1.1786 - val_categorical_accuracy: 0.6430\n",
      "Epoch 39/100\n",
      "198/198 [==============================] - 1s 4ms/step - loss: 1.0380 - categorical_accuracy: 0.6364 - val_loss: 1.1629 - val_categorical_accuracy: 0.6430\n",
      "Epoch 40/100\n",
      "198/198 [==============================] - 1s 4ms/step - loss: 1.0105 - categorical_accuracy: 0.6462 - val_loss: 1.1984 - val_categorical_accuracy: 0.6430\n",
      "Epoch 41/100\n",
      "198/198 [==============================] - 1s 4ms/step - loss: 1.0233 - categorical_accuracy: 0.6441 - val_loss: 1.1570 - val_categorical_accuracy: 0.6430\n",
      "Epoch 42/100\n",
      "198/198 [==============================] - 1s 4ms/step - loss: 0.9717 - categorical_accuracy: 0.6514 - val_loss: 1.1752 - val_categorical_accuracy: 0.6430\n",
      "Epoch 43/100\n",
      "198/198 [==============================] - 1s 4ms/step - loss: 0.9733 - categorical_accuracy: 0.6509 - val_loss: 1.1606 - val_categorical_accuracy: 0.6358\n",
      "Epoch 44/100\n",
      "198/198 [==============================] - 1s 4ms/step - loss: 0.9342 - categorical_accuracy: 0.6624 - val_loss: 1.1260 - val_categorical_accuracy: 0.6430\n",
      "Epoch 45/100\n",
      "198/198 [==============================] - 1s 4ms/step - loss: 0.9549 - categorical_accuracy: 0.6447 - val_loss: 1.1421 - val_categorical_accuracy: 0.6501\n",
      "Epoch 46/100\n",
      "198/198 [==============================] - 1s 4ms/step - loss: 0.9316 - categorical_accuracy: 0.6502 - val_loss: 1.0996 - val_categorical_accuracy: 0.6458\n",
      "Epoch 47/100\n",
      "198/198 [==============================] - 1s 4ms/step - loss: 0.9287 - categorical_accuracy: 0.6558 - val_loss: 1.0960 - val_categorical_accuracy: 0.6430\n",
      "Epoch 48/100\n",
      "198/198 [==============================] - 1s 4ms/step - loss: 0.9167 - categorical_accuracy: 0.6496 - val_loss: 1.1277 - val_categorical_accuracy: 0.6458\n",
      "Epoch 49/100\n",
      "198/198 [==============================] - 1s 4ms/step - loss: 0.9231 - categorical_accuracy: 0.6465 - val_loss: 1.1039 - val_categorical_accuracy: 0.6458\n"
     ]
    },
    {
     "name": "stdout",
     "output_type": "stream",
     "text": [
      "Epoch 50/100\n",
      "198/198 [==============================] - 1s 4ms/step - loss: 0.8986 - categorical_accuracy: 0.6535 - val_loss: 1.1511 - val_categorical_accuracy: 0.6344\n",
      "Epoch 51/100\n",
      "198/198 [==============================] - 1s 4ms/step - loss: 0.8794 - categorical_accuracy: 0.6602 - val_loss: 1.0828 - val_categorical_accuracy: 0.6558\n",
      "Epoch 52/100\n",
      "198/198 [==============================] - 1s 4ms/step - loss: 0.8789 - categorical_accuracy: 0.6593 - val_loss: 1.1058 - val_categorical_accuracy: 0.6444\n",
      "Epoch 53/100\n",
      "198/198 [==============================] - 1s 4ms/step - loss: 0.8778 - categorical_accuracy: 0.6607 - val_loss: 1.1400 - val_categorical_accuracy: 0.6486\n",
      "Epoch 54/100\n",
      "198/198 [==============================] - 1s 4ms/step - loss: 0.8670 - categorical_accuracy: 0.6621 - val_loss: 1.0980 - val_categorical_accuracy: 0.6458\n",
      "Epoch 55/100\n",
      "198/198 [==============================] - 1s 4ms/step - loss: 0.8569 - categorical_accuracy: 0.6652 - val_loss: 1.0725 - val_categorical_accuracy: 0.6472\n",
      "Epoch 56/100\n",
      "198/198 [==============================] - 1s 4ms/step - loss: 0.8841 - categorical_accuracy: 0.6499 - val_loss: 1.0799 - val_categorical_accuracy: 0.6501\n",
      "Epoch 57/100\n",
      "198/198 [==============================] - 1s 4ms/step - loss: 0.8397 - categorical_accuracy: 0.6638 - val_loss: 1.1356 - val_categorical_accuracy: 0.6501\n",
      "Epoch 58/100\n",
      "198/198 [==============================] - 1s 4ms/step - loss: 0.8398 - categorical_accuracy: 0.6677 - val_loss: 1.0875 - val_categorical_accuracy: 0.6472\n",
      "Epoch 59/100\n",
      "198/198 [==============================] - 1s 4ms/step - loss: 0.8362 - categorical_accuracy: 0.6672 - val_loss: 1.0961 - val_categorical_accuracy: 0.6387\n",
      "Epoch 60/100\n",
      "198/198 [==============================] - 1s 4ms/step - loss: 0.8752 - categorical_accuracy: 0.6571 - val_loss: 1.1264 - val_categorical_accuracy: 0.6486\n",
      "Epoch 61/100\n",
      "198/198 [==============================] - 1s 4ms/step - loss: 0.8428 - categorical_accuracy: 0.6617 - val_loss: 1.0946 - val_categorical_accuracy: 0.6430\n",
      "Epoch 62/100\n",
      "198/198 [==============================] - 1s 4ms/step - loss: 0.8504 - categorical_accuracy: 0.6581 - val_loss: 1.1418 - val_categorical_accuracy: 0.6458\n",
      "Epoch 63/100\n",
      "198/198 [==============================] - 1s 4ms/step - loss: 0.8435 - categorical_accuracy: 0.6690 - val_loss: 1.1266 - val_categorical_accuracy: 0.6472\n",
      "Epoch 64/100\n",
      "198/198 [==============================] - 1s 4ms/step - loss: 0.8454 - categorical_accuracy: 0.6620 - val_loss: 1.1655 - val_categorical_accuracy: 0.6515\n",
      "Epoch 65/100\n",
      "198/198 [==============================] - 1s 4ms/step - loss: 0.8084 - categorical_accuracy: 0.6722 - val_loss: 1.1530 - val_categorical_accuracy: 0.6543\n",
      "Epoch 66/100\n",
      "198/198 [==============================] - 1s 4ms/step - loss: 0.8040 - categorical_accuracy: 0.6717 - val_loss: 1.1903 - val_categorical_accuracy: 0.6102\n",
      "Epoch 67/100\n",
      "198/198 [==============================] - 1s 4ms/step - loss: 0.8366 - categorical_accuracy: 0.6595 - val_loss: 1.1970 - val_categorical_accuracy: 0.6358\n",
      "Epoch 68/100\n",
      "198/198 [==============================] - 1s 4ms/step - loss: 0.8175 - categorical_accuracy: 0.6730 - val_loss: 1.1688 - val_categorical_accuracy: 0.6373\n",
      "Epoch 69/100\n",
      "198/198 [==============================] - 1s 4ms/step - loss: 0.8101 - categorical_accuracy: 0.6758 - val_loss: 1.2147 - val_categorical_accuracy: 0.6102\n",
      "Epoch 70/100\n",
      "198/198 [==============================] - 1s 4ms/step - loss: 0.8048 - categorical_accuracy: 0.6703 - val_loss: 1.2464 - val_categorical_accuracy: 0.6444\n",
      "Epoch 71/100\n",
      "198/198 [==============================] - 1s 4ms/step - loss: 0.8008 - categorical_accuracy: 0.6752 - val_loss: 1.1667 - val_categorical_accuracy: 0.6259\n",
      "Epoch 72/100\n",
      "198/198 [==============================] - 1s 4ms/step - loss: 0.7874 - categorical_accuracy: 0.6796 - val_loss: 1.1954 - val_categorical_accuracy: 0.6373\n",
      "Epoch 73/100\n",
      "198/198 [==============================] - 1s 4ms/step - loss: 0.7847 - categorical_accuracy: 0.6784 - val_loss: 1.1833 - val_categorical_accuracy: 0.6245\n",
      "Epoch 74/100\n",
      "198/198 [==============================] - 1s 4ms/step - loss: 0.7970 - categorical_accuracy: 0.6779 - val_loss: 1.2367 - val_categorical_accuracy: 0.6088\n",
      "Epoch 75/100\n",
      "198/198 [==============================] - 1s 4ms/step - loss: 0.7762 - categorical_accuracy: 0.6798 - val_loss: 1.2176 - val_categorical_accuracy: 0.6003\n",
      "Epoch 76/100\n",
      "198/198 [==============================] - 1s 4ms/step - loss: 0.7758 - categorical_accuracy: 0.6838 - val_loss: 1.2021 - val_categorical_accuracy: 0.6287\n",
      "Epoch 77/100\n",
      "198/198 [==============================] - 1s 4ms/step - loss: 0.7718 - categorical_accuracy: 0.6879 - val_loss: 1.2100 - val_categorical_accuracy: 0.6074\n",
      "Epoch 78/100\n",
      "198/198 [==============================] - 1s 4ms/step - loss: 0.7821 - categorical_accuracy: 0.6838 - val_loss: 1.2619 - val_categorical_accuracy: 0.6174\n",
      "Epoch 79/100\n",
      "198/198 [==============================] - 1s 4ms/step - loss: 0.7402 - categorical_accuracy: 0.7009 - val_loss: 1.2112 - val_categorical_accuracy: 0.6088\n",
      "Epoch 80/100\n",
      "198/198 [==============================] - 1s 4ms/step - loss: 0.7676 - categorical_accuracy: 0.6858 - val_loss: 1.2873 - val_categorical_accuracy: 0.6102\n",
      "Epoch 81/100\n",
      "198/198 [==============================] - 1s 4ms/step - loss: 0.7893 - categorical_accuracy: 0.6795 - val_loss: 1.2640 - val_categorical_accuracy: 0.5989\n",
      "Epoch 82/100\n",
      "198/198 [==============================] - 1s 4ms/step - loss: 0.7351 - categorical_accuracy: 0.6933 - val_loss: 1.3512 - val_categorical_accuracy: 0.5733\n",
      "Epoch 83/100\n",
      "198/198 [==============================] - 1s 4ms/step - loss: 0.7708 - categorical_accuracy: 0.6809 - val_loss: 1.3034 - val_categorical_accuracy: 0.6017\n",
      "Epoch 84/100\n",
      "198/198 [==============================] - 1s 4ms/step - loss: 0.7514 - categorical_accuracy: 0.6909 - val_loss: 1.2636 - val_categorical_accuracy: 0.6159\n",
      "Epoch 85/100\n",
      "198/198 [==============================] - 1s 4ms/step - loss: 0.7365 - categorical_accuracy: 0.6956 - val_loss: 1.2691 - val_categorical_accuracy: 0.6188\n",
      "Epoch 86/100\n",
      "198/198 [==============================] - 1s 4ms/step - loss: 0.7603 - categorical_accuracy: 0.6939 - val_loss: 1.3341 - val_categorical_accuracy: 0.6188\n",
      "Epoch 87/100\n",
      "198/198 [==============================] - 1s 4ms/step - loss: 0.7408 - categorical_accuracy: 0.7038 - val_loss: 1.3422 - val_categorical_accuracy: 0.6230\n",
      "Epoch 88/100\n",
      "198/198 [==============================] - 1s 4ms/step - loss: 0.7602 - categorical_accuracy: 0.6848 - val_loss: 1.4124 - val_categorical_accuracy: 0.6330\n",
      "Epoch 89/100\n",
      "198/198 [==============================] - 1s 4ms/step - loss: 0.7182 - categorical_accuracy: 0.7114 - val_loss: 1.3370 - val_categorical_accuracy: 0.6088\n",
      "Epoch 90/100\n",
      "198/198 [==============================] - 1s 4ms/step - loss: 0.7296 - categorical_accuracy: 0.6977 - val_loss: 1.4002 - val_categorical_accuracy: 0.6145\n",
      "Epoch 91/100\n",
      "198/198 [==============================] - 1s 4ms/step - loss: 0.7165 - categorical_accuracy: 0.7072 - val_loss: 1.4499 - val_categorical_accuracy: 0.5932\n",
      "Epoch 92/100\n",
      "198/198 [==============================] - 1s 4ms/step - loss: 0.7335 - categorical_accuracy: 0.7002 - val_loss: 1.4339 - val_categorical_accuracy: 0.6287\n",
      "Epoch 93/100\n",
      "198/198 [==============================] - 1s 4ms/step - loss: 0.7166 - categorical_accuracy: 0.7056 - val_loss: 1.4846 - val_categorical_accuracy: 0.6046\n",
      "Epoch 94/100\n",
      "198/198 [==============================] - 1s 5ms/step - loss: 0.7650 - categorical_accuracy: 0.7046 - val_loss: 1.3717 - val_categorical_accuracy: 0.5917\n",
      "Epoch 95/100\n",
      "198/198 [==============================] - 1s 5ms/step - loss: 0.7161 - categorical_accuracy: 0.7194 - val_loss: 1.3264 - val_categorical_accuracy: 0.5932\n",
      "Epoch 96/100\n",
      "198/198 [==============================] - 1s 5ms/step - loss: 0.7061 - categorical_accuracy: 0.7192 - val_loss: 1.3474 - val_categorical_accuracy: 0.5889\n",
      "Epoch 97/100\n",
      "198/198 [==============================] - 1s 4ms/step - loss: 0.7077 - categorical_accuracy: 0.7147 - val_loss: 1.4532 - val_categorical_accuracy: 0.6230\n",
      "Epoch 98/100\n",
      "198/198 [==============================] - 1s 5ms/step - loss: 0.6957 - categorical_accuracy: 0.7207 - val_loss: 1.4575 - val_categorical_accuracy: 0.5647\n"
     ]
    },
    {
     "name": "stdout",
     "output_type": "stream",
     "text": [
      "Epoch 99/100\n",
      "198/198 [==============================] - 1s 4ms/step - loss: 0.7111 - categorical_accuracy: 0.7106 - val_loss: 1.4011 - val_categorical_accuracy: 0.5932\n",
      "Epoch 100/100\n",
      "198/198 [==============================] - 1s 4ms/step - loss: 0.6674 - categorical_accuracy: 0.7236 - val_loss: 1.5364 - val_categorical_accuracy: 0.6273\n"
     ]
    }
   ],
   "source": [
    "history_2 = model.fit(X_train, y_train, epochs = 100, batch_size=32, validation_split=0.1)"
   ]
  },
  {
   "cell_type": "code",
   "execution_count": 96,
   "metadata": {},
   "outputs": [
    {
     "data": {
      "text/plain": [
       "[<matplotlib.lines.Line2D at 0x7f59d0cc9df0>]"
      ]
     },
     "execution_count": 96,
     "metadata": {},
     "output_type": "execute_result"
    },
    {
     "data": {
      "image/png": "[encoded data removed]",
      "text/plain": [
       "<Figure size 432x288 with 1 Axes>"
      ]
     },
     "metadata": {
      "needs_background": "light"
     },
     "output_type": "display_data"
    }
   ],
   "source": [
    "plt.plot(history_2.history['loss'])\n",
    "plt.plot(history_2.history['val_loss'])"
   ]
  },
  {
   "cell_type": "code",
   "execution_count": 97,
   "metadata": {},
   "outputs": [
    {
     "name": "stdout",
     "output_type": "stream",
     "text": [
      "220/220 [==============================] - 0s 2ms/step - loss: 0.6847 - categorical_accuracy: 0.7528\n"
     ]
    },
    {
     "data": {
      "text/plain": [
       "[0.6846734285354614, 0.7528105974197388]"
      ]
     },
     "metadata": {},
     "output_type": "display_data"
    }
   ],
   "source": [
    "# Train score\n",
    "score = model.evaluate(X_train, y_train)\n",
    "display(score)"
   ]
  },
  {
   "cell_type": "code",
   "execution_count": 98,
   "metadata": {},
   "outputs": [
    {
     "name": "stdout",
     "output_type": "stream",
     "text": [
      "41/41 [==============================] - 0s 2ms/step - loss: 1.3205 - categorical_accuracy: 0.6237\n"
     ]
    },
    {
     "data": {
      "text/plain": [
       "[1.3205066919326782, 0.6237471103668213]"
      ]
     },
     "metadata": {},
     "output_type": "display_data"
    }
   ],
   "source": [
    "test_score = model.evaluate(X_test, y_test)\n",
    "display(test_score)"
   ]
  },
  {
   "cell_type": "markdown",
   "metadata": {
    "id": "VA2A9-4xFfdF"
   },
   "source": []
  },
  {
   "cell_type": "code",
   "execution_count": 64,
   "metadata": {},
   "outputs": [
    {
     "data": {
      "text/plain": [
       "array([[691,  27,  20,  30,   8,  11,  22],\n",
       "       [ 54,  28,   0,   3,   0,   0,   0],\n",
       "       [ 27,   0,  20,  16,   1,   1,  13],\n",
       "       [ 30,   1,  10,  20,   0,   2,  15],\n",
       "       [ 28,   0,  10,   1,  33,   8,   4],\n",
       "       [ 49,   0,   1,   0,  14,  13,   4],\n",
       "       [ 30,   0,  15,  19,   0,   0,  18]])"
      ]
     },
     "metadata": {},
     "output_type": "display_data"
    },
    {
     "data": {
      "text/plain": [
       "0.6345412490362374"
      ]
     },
     "metadata": {},
     "output_type": "display_data"
    }
   ],
   "source": [
    "y_pred = model.predict(X_test)\n",
    "validate_model(y_pred, y_test)"
   ]
  }
 ],
 "metadata": {
  "colab": {
   "collapsed_sections": [],
   "name": "EMG_DL_Comparison.ipynb",
   "provenance": [],
   "toc_visible": true
  },
  "kernelspec": {
   "display_name": "final_project",
   "language": "python",
   "name": "final_project"
  },
  "language_info": {
   "codemirror_mode": {
    "name": "ipython",
    "version": 3
   },
   "file_extension": ".py",
   "mimetype": "text/x-python",
   "name": "python",
   "nbconvert_exporter": "python",
   "pygments_lexer": "ipython3",
   "version": "3.8.5"
  }
 },
 "nbformat": 4,
 "nbformat_minor": 5
}
